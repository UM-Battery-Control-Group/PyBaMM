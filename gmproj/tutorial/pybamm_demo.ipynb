{
 "cells": [
  {
   "cell_type": "markdown",
   "metadata": {},
   "source": [
    "# PyBaMM Demo"
   ]
  },
  {
   "cell_type": "code",
   "execution_count": 1,
   "metadata": {},
   "outputs": [],
   "source": [
    "import pybamm\n",
    "import matplotlib.pyplot as plt\n",
    "import numpy as np\n",
    "import pandas as pd\n",
    "import math\n",
    "from scipy.integrate import solve_ivp\n",
    "from scipy.fft import fft, fftfreq, fftshift\n",
    "from scipy.signal import savgol_filter\n",
    "from scipy.signal import find_peaks\n",
    "from scipy import interpolate\n",
    "plt.rcParams['figure.dpi'] = 150\n",
    "plt.rcParams['savefig.dpi'] = 300\n",
    "plt.style.use('seaborn-white')\n",
    "\n",
    "eSOH_DIR = \"./data/esoh/\"\n",
    "oCV_DIR = \"./data/ocv/\"\n",
    "fig_DIR = \"./figures/\"\n"
   ]
  },
  {
   "cell_type": "markdown",
   "metadata": {},
   "source": [
    "# Set Parameters and Expansion Functions"
   ]
  },
  {
   "cell_type": "code",
   "execution_count": 2,
   "metadata": {},
   "outputs": [],
   "source": [
    "def nmc_volume_change_mohtat(sto, c_s_max):\n",
    "    t_change = -1.10/100*(1-sto)\n",
    "    return t_change\n",
    "\n",
    "def graphite_volume_change_mohtat(sto, c_s_max):\n",
    "    stoichpoints = np.array([0,0.12,0.18,0.24,0.50,1])\n",
    "    thicknesspoints = np.array([0,2.406/100,3.3568/100,4.3668/100,5.583/100,13.0635/100])\n",
    "    x = [sto]\n",
    "    t_change = pybamm.Interpolant(stoichpoints, thicknesspoints, x, name=None, interpolator='linear', extrapolate=True, entries_string=None)\n",
    "    return t_change\n",
    "\n",
    "def get_parameter_values():\n",
    "    parameter_values = pybamm.ParameterValues(chemistry=pybamm.parameter_sets.Mohtat2020)\n",
    "    parameter_values.update(\n",
    "        {\n",
    "            # mechanical properties\n",
    "            \"Positive electrode Poisson's ratio\": 0.3,\n",
    "            \"Positive electrode Young's modulus [Pa]\": 375e9,\n",
    "            \"Positive electrode reference concentration for free of deformation [mol.m-3]\": 0,\n",
    "            \"Positive electrode partial molar volume [m3.mol-1]\": -7.28e-7,\n",
    "            \"Positive electrode volume change\": nmc_volume_change_mohtat,\n",
    "            # Loss of active materials (LAM) model\n",
    "            \"Positive electrode LAM constant exponential term\": 2,\n",
    "            \"Positive electrode critical stress [Pa]\": 375e6,\n",
    "            # mechanical properties\n",
    "            \"Negative electrode Poisson's ratio\": 0.2,\n",
    "            \"Negative electrode Young's modulus [Pa]\": 15e9,\n",
    "            \"Negative electrode reference concentration for free of deformation [mol.m-3]\": 0,\n",
    "            \"Negative electrode partial molar volume [m3.mol-1]\": 3.1e-6,\n",
    "            \"Negative electrode volume change\": graphite_volume_change_mohtat,\n",
    "            # Loss of active materials (LAM) model\n",
    "            \"Negative electrode LAM constant exponential term\": 2,\n",
    "            \"Negative electrode critical stress [Pa]\": 60e6,\n",
    "            # Other\n",
    "            \"Cell thermal expansion coefficient [m.K-1]\": 1.48E-6,\n",
    "            \"Lower voltage cut-off [V]\": 3.0,\n",
    "            \"Typical electrolyte concentration [mol.m-3]\": 1200,\n",
    "        },\n",
    "        check_already_exists=False,\n",
    "    )\n",
    "    return parameter_values\n",
    "parameter_values = get_parameter_values()"
   ]
  },
  {
   "cell_type": "markdown",
   "metadata": {},
   "source": [
    "## Search Parameters"
   ]
  },
  {
   "cell_type": "code",
   "execution_count": 3,
   "metadata": {},
   "outputs": [
    {
     "name": "stdout",
     "output_type": "stream",
     "text": [
      "Number of electrodes connected in parallel to make a cell\t1.0\n"
     ]
    }
   ],
   "source": [
    "parameter_values.search(\"parallel\")"
   ]
  },
  {
   "cell_type": "markdown",
   "metadata": {},
   "source": [
    "# Set Cell No"
   ]
  },
  {
   "cell_type": "code",
   "execution_count": 4,
   "metadata": {},
   "outputs": [],
   "source": [
    "cell = 1"
   ]
  },
  {
   "cell_type": "markdown",
   "metadata": {},
   "source": [
    "## Read Cell data"
   ]
  },
  {
   "cell_type": "code",
   "execution_count": 5,
   "metadata": {},
   "outputs": [
    {
     "name": "stdout",
     "output_type": "stream",
     "text": [
      "Cycle Numbers:\n",
      "0, 18, 57, 93, 134, 175, 216, 257, 298, 339\n"
     ]
    }
   ],
   "source": [
    "cell_no = f'{cell:02d}'\n",
    "dfe=pd.read_csv(eSOH_DIR+\"aging_param_cell_\"+cell_no+\".csv\")\n",
    "# Remove first RPT\n",
    "dfe = dfe.drop(dfe.index[0])\n",
    "dfe = dfe.reset_index(drop=True)\n",
    "dfe['N']=dfe['N']-dfe['N'][0]\n",
    "N =dfe.N.unique()\n",
    "dfo_0=pd.read_csv(oCV_DIR+\"ocv_data_cell_\"+cell_no+\".csv\")\n",
    "print(\"Cycle Numbers:\")\n",
    "print(*N, sep = \", \") "
   ]
  },
  {
   "cell_type": "code",
   "execution_count": 6,
   "metadata": {},
   "outputs": [],
   "source": [
    "dfo = dfo_0[dfo_0['N']==N[0]]\n",
    "# dfe_0 = dfe[dfe['N']==N[0]]\n",
    "C_n_init = dfe['C_n'][0]\n",
    "C_p_init = dfe['C_p'][0]\n",
    "y_0_init = dfe['y_0'][0] \n",
    "if cell_no=='01':\n",
    "    c_rate_c = '1C'\n",
    "    c_rate_d = '1C'\n",
    "    dis_set = \" until 3V\"\n",
    "    # eps_n_data = 0.6234\n",
    "    # eps_p_data = 0.4542\n",
    "elif cell_no=='13':\n",
    "    c_rate_c = 'C/5'\n",
    "    c_rate_d = 'C/5'\n",
    "    dis_set = \" for 150 min\""
   ]
  },
  {
   "cell_type": "markdown",
   "metadata": {},
   "source": [
    "# Set PyBaMM experiment"
   ]
  },
  {
   "cell_type": "code",
   "execution_count": 7,
   "metadata": {},
   "outputs": [],
   "source": [
    "pybamm.set_logging_level(\"WARNING\")\n",
    "# pybamm.set_logging_level(\"NOTICE\")\n",
    "experiment = pybamm.Experiment(\n",
    "    [\n",
    "        (\"Discharge at \"+c_rate_c+\" until 3V\", )\n",
    "\n",
    "    ],\n",
    "    termination=\"50% capacity\",\n",
    "#     cccv_handling=\"ode\",\n",
    ")\n",
    "spm = pybamm.lithium_ion.SPMe(\n",
    "    {\n",
    "        # \"SEI\": \"ec reaction limited\",\n",
    "        # \"loss of active material\": (\"stress-driven\",\"none\"),\n",
    "        \"loss of active material\": \"stress-driven\",\n",
    "        \"stress-induced diffusion\": \"true\",\n",
    "        \"pressure driven porosity\": \"true\",\n",
    "        # \"lithium plating\": \"reversible\",\n",
    "    }\n",
    ")\n",
    "# spm.print_parameter_info()"
   ]
  },
  {
   "cell_type": "code",
   "execution_count": 8,
   "metadata": {},
   "outputs": [],
   "source": [
    "param = spm.param\n",
    "eps_n_data = parameter_values.evaluate(C_n_init*3600/(param.n.L * param.n.c_max * param.F* param.A_cc))\n",
    "eps_p_data = parameter_values.evaluate(C_p_init*3600/(param.p.L * param.p.c_max * param.F* param.A_cc))\n",
    "cs_p_init = parameter_values.evaluate(y_0_init* param.p.c_max)"
   ]
  },
  {
   "cell_type": "markdown",
   "metadata": {},
   "source": [
    "## Set Additional Parameters"
   ]
  },
  {
   "cell_type": "code",
   "execution_count": 9,
   "metadata": {},
   "outputs": [],
   "source": [
    "parameter_values = get_parameter_values()\n",
    "parameter_values.update(\n",
    "    {\n",
    "        \"SEI kinetic rate constant [m.s-1]\": 1.6827e-16,\n",
    "        \"Positive electrode LAM constant proportional term [s-1]\": 8.3569e-6,\n",
    "        \"Negative electrode LAM constant proportional term [s-1]\": 5.8032e-5,\n",
    "        \"EC diffusivity [m2.s-1]\": 2e-18,\n",
    "        \"Positive electrode LAM constant exponential term\": 2,\n",
    "        \"Negative electrode LAM constant exponential term\": 2,\n",
    "        \"Negative electrode active material volume fraction\": eps_n_data,\n",
    "        \"Positive electrode active material volume fraction\": eps_p_data,\n",
    "    },\n",
    "    check_already_exists=False,\n",
    ")"
   ]
  },
  {
   "cell_type": "code",
   "execution_count": 10,
   "metadata": {},
   "outputs": [
    {
     "name": "stdout",
     "output_type": "stream",
     "text": [
      "Negative electrode lithium plating reaction overpotential\n",
      "Negative electrode lithium plating reaction overpotential [V]\n",
      "Negative electrode reaction overpotential\n",
      "Negative electrode reaction overpotential [V]\n",
      "Positive electrode reaction overpotential\n",
      "Positive electrode reaction overpotential [V]\n",
      "SEI film overpotential\n",
      "SEI film overpotential [V]\n",
      "X-averaged SEI film overpotential\n",
      "X-averaged SEI film overpotential [V]\n",
      "X-averaged battery concentration overpotential [V]\n",
      "X-averaged battery reaction overpotential [V]\n",
      "X-averaged concentration overpotential\n",
      "X-averaged concentration overpotential [V]\n",
      "X-averaged electrolyte overpotential\n",
      "X-averaged electrolyte overpotential [V]\n",
      "X-averaged negative electrode lithium plating reaction overpotential\n",
      "X-averaged negative electrode lithium plating reaction overpotential [V]\n",
      "X-averaged negative electrode reaction overpotential\n",
      "X-averaged negative electrode reaction overpotential [V]\n",
      "X-averaged positive electrode reaction overpotential\n",
      "X-averaged positive electrode reaction overpotential [V]\n",
      "X-averaged reaction overpotential\n",
      "X-averaged reaction overpotential [V]\n"
     ]
    }
   ],
   "source": [
    "spm.variables.search(\"overpotential\")"
   ]
  },
  {
   "cell_type": "markdown",
   "metadata": {},
   "source": [
    "# Simulate"
   ]
  },
  {
   "cell_type": "code",
   "execution_count": 11,
   "metadata": {},
   "outputs": [],
   "source": [
    "sim_0 = pybamm.Simulation(spm, experiment=experiment, parameter_values=parameter_values, \n",
    "                            solver=pybamm.CasadiSolver(\"safe\"))\n",
    "sol_0 = sim_0.solve(initial_soc=0)"
   ]
  },
  {
   "cell_type": "markdown",
   "metadata": {},
   "source": [
    "## Search for Variables"
   ]
  },
  {
   "cell_type": "code",
   "execution_count": null,
   "metadata": {},
   "outputs": [
    {
     "name": "stdout",
     "output_type": "stream",
     "text": [
      "Electrolyte potential\n",
      "Electrolyte potential [V]\n",
      "Gradient of electrolyte potential\n",
      "Gradient of negative electrode potential\n",
      "Gradient of negative electrolyte potential\n",
      "Gradient of positive electrode potential\n",
      "Gradient of positive electrolyte potential\n",
      "Gradient of separator electrolyte potential\n",
      "Negative current collector potential\n",
      "Negative current collector potential [V]\n",
      "Negative electrode lithium plating reaction overpotential\n",
      "Negative electrode lithium plating reaction overpotential [V]\n",
      "Negative electrode open circuit potential\n",
      "Negative electrode open circuit potential [V]\n",
      "Negative electrode oxygen open circuit potential\n",
      "Negative electrode oxygen open circuit potential [V]\n",
      "Negative electrode oxygen reaction overpotential\n",
      "Negative electrode oxygen reaction overpotential [V]\n",
      "Negative electrode potential\n",
      "Negative electrode potential [V]\n",
      "Negative electrode reaction overpotential\n",
      "Negative electrode reaction overpotential [V]\n",
      "Negative electrode surface potential difference\n",
      "Negative electrode surface potential difference [V]\n",
      "Negative electrolyte potential\n",
      "Negative electrolyte potential [V]\n",
      "Positive current collector potential\n",
      "Positive current collector potential [V]\n",
      "Positive electrode open circuit potential\n",
      "Positive electrode open circuit potential [V]\n",
      "Positive electrode oxygen open circuit potential\n",
      "Positive electrode oxygen open circuit potential [V]\n",
      "Positive electrode oxygen reaction overpotential\n",
      "Positive electrode oxygen reaction overpotential [V]\n",
      "Positive electrode potential\n",
      "Positive electrode potential [V]\n",
      "Positive electrode reaction overpotential\n",
      "Positive electrode reaction overpotential [V]\n",
      "Positive electrode surface potential difference\n",
      "Positive electrode surface potential difference [V]\n",
      "Positive electrolyte potential\n",
      "Positive electrolyte potential [V]\n",
      "SEI film overpotential\n",
      "SEI film overpotential [V]\n",
      "Separator electrolyte potential\n",
      "Separator electrolyte potential [V]\n",
      "X-averaged SEI film overpotential\n",
      "X-averaged SEI film overpotential [V]\n",
      "X-averaged battery concentration overpotential [V]\n",
      "X-averaged battery reaction overpotential [V]\n",
      "X-averaged concentration overpotential\n",
      "X-averaged concentration overpotential [V]\n",
      "X-averaged electrolyte overpotential\n",
      "X-averaged electrolyte overpotential [V]\n",
      "X-averaged electrolyte potential\n",
      "X-averaged electrolyte potential [V]\n",
      "X-averaged negative electrode lithium plating reaction overpotential\n",
      "X-averaged negative electrode lithium plating reaction overpotential [V]\n",
      "X-averaged negative electrode open circuit potential\n",
      "X-averaged negative electrode open circuit potential [V]\n",
      "X-averaged negative electrode oxygen open circuit potential\n",
      "X-averaged negative electrode oxygen open circuit potential [V]\n",
      "X-averaged negative electrode oxygen reaction overpotential\n",
      "X-averaged negative electrode oxygen reaction overpotential [V]\n",
      "X-averaged negative electrode potential\n",
      "X-averaged negative electrode potential [V]\n",
      "X-averaged negative electrode reaction overpotential\n",
      "X-averaged negative electrode reaction overpotential [V]\n",
      "X-averaged negative electrode surface potential difference\n",
      "X-averaged negative electrode surface potential difference [V]\n",
      "X-averaged negative electrolyte potential\n",
      "X-averaged negative electrolyte potential [V]\n",
      "X-averaged positive electrode open circuit potential\n",
      "X-averaged positive electrode open circuit potential [V]\n",
      "X-averaged positive electrode oxygen open circuit potential\n",
      "X-averaged positive electrode oxygen open circuit potential [V]\n",
      "X-averaged positive electrode oxygen reaction overpotential\n",
      "X-averaged positive electrode oxygen reaction overpotential [V]\n",
      "X-averaged positive electrode potential\n",
      "X-averaged positive electrode potential [V]\n",
      "X-averaged positive electrode reaction overpotential\n",
      "X-averaged positive electrode reaction overpotential [V]\n",
      "X-averaged positive electrode surface potential difference\n",
      "X-averaged positive electrode surface potential difference [V]\n",
      "X-averaged positive electrolyte potential\n",
      "X-averaged positive electrolyte potential [V]\n",
      "X-averaged reaction overpotential\n",
      "X-averaged reaction overpotential [V]\n",
      "X-averaged separator electrolyte potential\n",
      "X-averaged separator electrolyte potential [V]\n"
     ]
    }
   ],
   "source": [
    "spm.variables.search(\"potential\")"
   ]
  },
  {
   "cell_type": "markdown",
   "metadata": {},
   "source": [
    "# Quick Plot"
   ]
  },
  {
   "cell_type": "code",
   "execution_count": null,
   "metadata": {},
   "outputs": [
    {
     "data": {
      "application/vnd.jupyter.widget-view+json": {
       "model_id": "1603da4cb4f24879b0a041b5d9a5660f",
       "version_major": 2,
       "version_minor": 0
      },
      "text/plain": [
       "interactive(children=(FloatSlider(value=0.0, description='t', max=3246.3160588083515, step=32.46316058808352),…"
      ]
     },
     "metadata": {},
     "output_type": "display_data"
    },
    {
     "data": {
      "text/plain": [
       "<pybamm.plotting.quick_plot.QuickPlot at 0x248f41b5d90>"
      ]
     },
     "execution_count": 35,
     "metadata": {},
     "output_type": "execute_result"
    }
   ],
   "source": [
    "sol_0.plot()"
   ]
  },
  {
   "cell_type": "code",
   "execution_count": null,
   "metadata": {},
   "outputs": [
    {
     "data": {
      "application/vnd.jupyter.widget-view+json": {
       "model_id": "8269130515aa4867b5f797f0d960f6eb",
       "version_major": 2,
       "version_minor": 0
      },
      "text/plain": [
       "interactive(children=(FloatSlider(value=0.0, description='t', max=3246.3160588083515, step=32.46316058808352),…"
      ]
     },
     "metadata": {},
     "output_type": "display_data"
    },
    {
     "data": {
      "text/plain": [
       "<pybamm.plotting.quick_plot.QuickPlot at 0x248f57556a0>"
      ]
     },
     "execution_count": 25,
     "metadata": {},
     "output_type": "execute_result"
    }
   ],
   "source": [
    "output_variables = [\"Terminal voltage [V]\"]\n",
    "sol_0.plot(output_variables=output_variables)"
   ]
  },
  {
   "cell_type": "code",
   "execution_count": null,
   "metadata": {},
   "outputs": [
    {
     "data": {
      "application/vnd.jupyter.widget-view+json": {
       "model_id": "8f1f5870ef8f48758e0637ee8e24cf8c",
       "version_major": 2,
       "version_minor": 0
      },
      "text/plain": [
       "interactive(children=(FloatSlider(value=0.0, description='t', max=3246.3160588083515, step=32.46316058808352),…"
      ]
     },
     "metadata": {},
     "output_type": "display_data"
    },
    {
     "data": {
      "text/plain": [
       "<pybamm.plotting.quick_plot.QuickPlot at 0x248f571f040>"
      ]
     },
     "execution_count": 26,
     "metadata": {},
     "output_type": "execute_result"
    }
   ],
   "source": [
    "out_variables = [\"Electrolyte concentration [mol.m-3]\"]\n",
    "sol_0.plot(output_variables=out_variables)\n",
    "# plt.savefig(fig_DIR +'electrolyte_conc_porosity_0.png')"
   ]
  },
  {
   "cell_type": "code",
   "execution_count": null,
   "metadata": {},
   "outputs": [
    {
     "data": {
      "application/vnd.jupyter.widget-view+json": {
       "model_id": "120901e90ca94edab9f36334de7db141",
       "version_major": 2,
       "version_minor": 0
      },
      "text/plain": [
       "interactive(children=(FloatSlider(value=0.0, description='t', max=3246.3160588083515, step=32.46316058808352),…"
      ]
     },
     "metadata": {},
     "output_type": "display_data"
    },
    {
     "data": {
      "text/plain": [
       "<pybamm.plotting.quick_plot.QuickPlot at 0x248f5cce460>"
      ]
     },
     "execution_count": 22,
     "metadata": {},
     "output_type": "execute_result"
    }
   ],
   "source": [
    "sol_0.plot([[\"Electrode current density\", \"Electrolyte current density\"], \"Terminal voltage [V]\"])"
   ]
  },
  {
   "cell_type": "markdown",
   "metadata": {},
   "source": [
    "# Define plotting variables"
   ]
  },
  {
   "cell_type": "code",
   "execution_count": null,
   "metadata": {},
   "outputs": [],
   "source": [
    "t = sol_0[\"Time [s]\"].entries\n",
    "I = sol_0[\"Current [A]\"].entries\n",
    "Q = -sol_0['Discharge capacity [A.h]'].entries\n",
    "Vt = sol_0[\"Terminal voltage [V]\"].entries\n",
    "exp = 30e6*sol_0[\"Cell thickness change [m]\"].entries\n",
    "exp_n = 30e6*sol_0[\"Negative electrode thickness change [m]\"].entries\n",
    "exp_p = 30e6*sol_0[\"Positive electrode thickness change [m]\"].entries\n",
    "ee_p = sol_0[\"X-averaged positive electrode porosity\"].entries\n",
    "ee_n = sol_0[\"X-averaged negative electrode porosity\"].entries\n",
    "ee_s = sol_0[\"X-averaged separator porosity\"].entries\n",
    "j_n = sol_0[\"X-averaged negative electrode total interfacial current density [A.m-2]\"].entries\n",
    "j_p = sol_0[\"X-averaged positive electrode total interfacial current density [A.m-2]\"].entries\n",
    "\n",
    "x = sol_0[\"x [m]\"].entries\n",
    "c_e_0 = sol_0[\"Electrolyte concentration [mol.m-3]\"].entries"
   ]
  },
  {
   "cell_type": "code",
   "execution_count": null,
   "metadata": {},
   "outputs": [
    {
     "data": {
      "text/plain": [
       "Text(0, 0.5, 'Voltage [V]')"
      ]
     },
     "execution_count": 18,
     "metadata": {},
     "output_type": "execute_result"
    },
    {
     "data": {
      "image/png": "[encoded data removed]",
      "text/plain": [
       "<Figure size 900x600 with 1 Axes>"
      ]
     },
     "metadata": {},
     "output_type": "display_data"
    }
   ],
   "source": [
    "plt.figure()\n",
    "plt.plot(Q,Vt)\n",
    "plt.xlim(left=0)\n",
    "plt.xlabel('Q [Ah]')\n",
    "plt.ylabel('Voltage [V]')"
   ]
  },
  {
   "cell_type": "code",
   "execution_count": null,
   "metadata": {},
   "outputs": [
    {
     "data": {
      "image/png": "[encoded data removed]",
      "text/plain": [
       "<Figure size 1200x600 with 3 Axes>"
      ]
     },
     "metadata": {},
     "output_type": "display_data"
    }
   ],
   "source": [
    "fig = plt.figure(figsize=[8,4])\n",
    "ax1 = plt.subplot(1,3,1)\n",
    "ax1.plot(Q,exp_n)\n",
    "ax1.set_xlim(left=0)\n",
    "ax1.set_xlabel('Q [Ah]')\n",
    "ax1.set_ylabel('Exp [$\\mu$m]')\n",
    "ax1.set_title('NE')\n",
    "ax2 = plt.subplot(1,3,2)\n",
    "ax2.plot(Q,exp)\n",
    "ax2.set_xlim(left=0)\n",
    "ax2.set_xlabel('Q [Ah]')\n",
    "ax2.set_title('Total')\n",
    "ax2.set_ylabel('Exp [$\\mu$m]')\n",
    "ax3 = plt.subplot(1,3,3)\n",
    "ax3.plot(Q,exp_p)\n",
    "ax3.set_xlim(left=0)\n",
    "ax3.set_xlabel('Q [Ah]')\n",
    "ax3.set_ylabel('Exp [$\\mu$m]')\n",
    "ax3.set_title('PE')\n",
    "fig.tight_layout()"
   ]
  }
 ],
 "metadata": {
  "kernelspec": {
   "display_name": "Python 3.9.7 ('windows-dev': venv)",
   "language": "python",
   "name": "python3"
  },
  "language_info": {
   "codemirror_mode": {
    "name": "ipython",
    "version": 3
   },
   "file_extension": ".py",
   "mimetype": "text/x-python",
   "name": "python",
   "nbconvert_exporter": "python",
   "pygments_lexer": "ipython3",
   "version": "3.9.7"
  },
  "orig_nbformat": 4,
  "vscode": {
   "interpreter": {
    "hash": "fe6e1a396f7757d05554318f98bb2d7e7d3785df9fdbcce0707f057fad4349a9"
   }
  }
 },
 "nbformat": 4,
 "nbformat_minor": 2
}
