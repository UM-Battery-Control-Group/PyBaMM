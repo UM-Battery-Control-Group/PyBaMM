{
 "cells": [
  {
   "attachments": {},
   "cell_type": "markdown",
   "metadata": {},
   "source": [
    "# Plot Mechanical Stress at several C-rates"
   ]
  },
  {
   "cell_type": "code",
   "execution_count": 1,
   "metadata": {},
   "outputs": [],
   "source": [
    "import pybamm\n",
    "import matplotlib.pyplot as plt\n",
    "import numpy as np\n",
    "import scipy\n",
    "import pandas as pd\n",
    "import math\n",
    "import dfols\n",
    "import signal\n",
    "from scipy.integrate import solve_ivp\n",
    "from scipy.fft import fft, fftfreq, fftshift\n",
    "from scipy.signal import savgol_filter\n",
    "from scipy.signal import find_peaks\n",
    "from scipy import interpolate\n",
    "from stopit import threading_timeoutable as timeoutable\n",
    "import os, sys\n",
    "sys.path.append(os.path.dirname(os.path.dirname(os.path.abspath(\"__file__\"))))\n",
    "from batfuns import *\n",
    "plt.rcParams = set_rc_params(plt.rcParams)\n",
    "\n",
    "eSOH_DIR = \"../data/esoh/\"\n",
    "oCV_DIR = \"../data/ocv/\"\n",
    "cyc_DIR = \"../data/cycling/\"\n",
    "fig_DIR = \"../figures/figures_model/\"\n",
    "res_DIR = \"../data/results_model/\"\n",
    "%matplotlib widget"
   ]
  },
  {
   "cell_type": "code",
   "execution_count": 2,
   "metadata": {},
   "outputs": [],
   "source": [
    "parameter_values = get_parameter_values()"
   ]
  },
  {
   "cell_type": "code",
   "execution_count": 3,
   "metadata": {},
   "outputs": [],
   "source": [
    "spm = pybamm.lithium_ion.SPM(\n",
    "    {\n",
    "        \"SEI\": \"ec reaction limited\",\n",
    "        \"loss of active material\": \"stress-driven\",\n",
    "        \"lithium plating\": \"irreversible\",\n",
    "        \"stress-induced diffusion\": \"false\",\n",
    "    }\n",
    ")\n",
    "# spm.print_parameter_info()\n",
    "param=spm.param"
   ]
  },
  {
   "cell_type": "code",
   "execution_count": 4,
   "metadata": {},
   "outputs": [
    {
     "name": "stdout",
     "output_type": "stream",
     "text": [
      "25\n"
     ]
    }
   ],
   "source": [
    "cell = 10\n",
    "sno = 15\n",
    "cell_no,dfe,dfe_0,dfo_0,N,N_0 = load_data(cell,eSOH_DIR,oCV_DIR)\n",
    "eps_n_data,eps_p_data,c_rate_c,c_rate_d,dis_set,Temp,SOC_0 = init_exp(cell_no,dfe,spm,parameter_values)\n",
    "print(Temp)"
   ]
  },
  {
   "cell_type": "code",
   "execution_count": 5,
   "metadata": {},
   "outputs": [],
   "source": [
    "par_val = {}\n",
    "# Previous i.e. tuning mech sim sep and then Li plating\n",
    "par_val[0] = [1.2715e-07,1.2727e-06,1.1992,1.353e-9,0,0]\n",
    "# Using only C/5 and 1.5C Cycling aging, cost function with Cn,Cp,x100,y0\n",
    "par_val[1] = [1.4819e-07,1.5114e-06,1.2484,1.4732e-09,0,0]\n",
    "# Using only C/5 and 1.5C Cycling aging, cost function with Cn,Cp,C,LLI(%)\n",
    "par_val[2] = [1.4493e-07,1.3608e-06,1.199,1.2138e-09,0,0]\n",
    "# Using C/5, 1.5C and mixed c-rate (Ch:C/5, Dh:1.5C) Cycling aging, cost function with Cn,Cp,x100,y0\n",
    "par_val[3] = [1.043e-07,1.036e-06,1.208,1.6045e-09,0,0]\n",
    "# Using C/5, 1.5C and mixed c-rate (Ch:C/5, Dh:1.5C) Cycling aging, cost function with Cn,Cp,C,LLI(%)\n",
    "par_val[4] = [8.755e-08,8.572e-07,1.135,1.5788e-09,0,0]\n",
    "# Using C/5, 1.5C and mixed c-rate (Ch:C/5, Dh:1.5C) Cycling aging, cost function with Cn,Cp,C,LLI(%) another initial condition\n",
    "par_val[5] = [8.7698e-08,8.5848e-07,1.1354,1.5778e-09,0,0]\n",
    "# New Mech Damage Model\n",
    "par_val[6] = [2.056E-07,2.4664E-06,1.2468,1.0482e-09,0,0]\n",
    "# New Mech Damage Model with Lithium plating resistane\n",
    "par_val[7] = [2.190e-07,2.308e-06,1.214,2.537e-09,0]\n",
    "# New Assymetric Mech Damage Model, tuned using C/5, 1.5C and mixed c-rate (Ch:C/5, Dh:1.5C) Cycling aging\n",
    "par_val[8] = [1.426e-07,3.832e-06,1.215,2.35e-09,1.462e-06,0]\n",
    "# New Assymetric Mech Damage Model, tuned using C/5, 1.5C and mixed c-rate (Ch:C/5, Dh:1.5C) Cycling aging version 2\n",
    "par_val[9] = [1.41036e-07,2.3913188000000003e-06,1.2098,2.4487124e-09,7.330208e-08,0]\n",
    "# New Assymetric Mech Damage Model, tuned using C/5, 1.5C and mixed c-rate (Ch:C/5, Dh:1.5C) Cycling aging version 3\n",
    "par_val[10] = [1.414e-07,1.5045e-06,1.2094,2.45e-09,4.603e-08,0]\n",
    "# Post processing LAM model using simulated stress, tuned using C/5 and 1.5C Cycling aging \n",
    "par_val[11] = [4.2298e-08,3.1590e-07,1.0773,2.3688e-09,1.8939e-08,0]\n",
    "# Post processing LAM model using simulated stress, tuned using C/5 and mixed c-rate (Ch:C/5, Dh:1.5C) Cycling aging \n",
    "par_val[12] = [8.4600e-09,2.8926e-07,1.0462,2.8351e-09,7.6933e-11,0]\n",
    "# Post processing LAM model using simulated stress, tuned using C/5 and mixed c-rate (Ch:C/5, Dh:1.5C) Cycling aging version 2\n",
    "par_val[13] = [4.0689e-08,2.8887e-07,1.0484,2.4848e-09,7.6548e-12,5.8577e-11]\n",
    "# Post processing LAM model using simulated stress, tuned using C/5 and mixed c-rate (Ch:C/5, Dh:1.5C) Cycling aging negative beta\n",
    "par_val[14] = [4.0419e-08,2.8956e-07,1.0788,2.3578e-09,-7.8991e-09,-1.4254e-09]\n",
    "# Post processing LAM model using simulated stress, tuned using C/5 and mixed c-rate (Ch:C/5, Dh:1.5C) Cycling aging V1: correct Omega\n",
    "par_val[15] = [4.0312e-08,1.8157e-07,1.0776,2.3586e-09,-4.9170e-09,-1.4406e-09]\n",
    "# Post processing LAM model using simulated stress, tuned using C/5 and mixed c-rate (Ch:C/5, Dh:1.5C) Cycling aging V2: New critical stress values\n",
    "par_val[16] = [3.7270e-09,5.4495e-08,1.0593,3.1062e-09,-1.4317e-09,-1.5005e-10]\n",
    "# par_val[16] = [5.9604e-08,3.7083e-07,1.1885,2.1512e-09,-9.0250e-09,-8.5400e-11]\n",
    "# par_val[15] = [1.8738e-07,3.5218e-07,1.0998,2.5332e-09,7.6933e-13,7.6933e-13]\n",
    "par_val[17]= [3.9120e-08,1.7582e-07,1.0612,1.4662e-11,-4.2190e-09,-1.7768e-09]\n",
    "\n",
    "par_val[18]= [4.0260e-08,1.7690e-07,1.0613,1.4276e-11,-3.9503e-09,-1.7136e-09]"
   ]
  },
  {
   "cell_type": "code",
   "execution_count": 6,
   "metadata": {},
   "outputs": [],
   "source": [
    "parameter_values = get_parameter_values()\n",
    "parameter_values.update(\n",
    "    {\n",
    "        \"Negative electrode active material volume fraction\": eps_n_data,\n",
    "        \"Positive electrode active material volume fraction\": eps_p_data,\n",
    "        \"Initial temperature [K]\": 273.15+Temp,\n",
    "        \"Ambient temperature [K]\": 273.15+Temp,\n",
    "        \"Positive electrode LAM constant proportional term [s-1]\": par_val[sno][0],\n",
    "        \"Negative electrode LAM constant proportional term [s-1]\": par_val[sno][1],\n",
    "        \"Positive electrode LAM constant proportional term 2 [s-1]\": par_val[sno][5],\n",
    "        \"Negative electrode LAM constant proportional term 2 [s-1]\": par_val[sno][4],\n",
    "        \"Positive electrode LAM constant exponential term\": par_val[sno][2],\n",
    "        \"Negative electrode LAM constant exponential term\": par_val[sno][2],\n",
    "        \"SEI kinetic rate constant [m.s-1]\":  4.60788219e-16, #1.08494281e-16 , \n",
    "        \"EC diffusivity [m2.s-1]\": 4.56607447e-19,#8.30909086e-19,\n",
    "        \"SEI growth activation energy [J.mol-1]\": 1.87422275e+04,#1.58777981e+04,\n",
    "        \"Lithium plating kinetic rate constant [m.s-1]\": par_val[sno][3],\n",
    "        \"Initial inner SEI thickness [m]\": 0e-09,\n",
    "        \"Initial outer SEI thickness [m]\": 5e-09,\n",
    "        \"SEI resistivity [Ohm.m]\": 30000.0,\n",
    "        \"Negative electrode partial molar volume [m3.mol-1]\": 7e-06,\n",
    "        \"Negative electrode LAM min stress [Pa]\": 0,\n",
    "        \"Negative electrode LAM max stress [Pa]\": 0,\n",
    "        \"Positive electrode LAM min stress [Pa]\": 0,\n",
    "        \"Positive electrode LAM max stress [Pa]\": 0,\n",
    "        # \"Negative electrode critical stress [Pa]\": 20e+06,\n",
    "        # \"Positive electrode critical stress [Pa]\": 40e+06,\n",
    "    },\n",
    "    check_already_exists=False,\n",
    ")"
   ]
  },
  {
   "cell_type": "code",
   "execution_count": 7,
   "metadata": {},
   "outputs": [],
   "source": [
    "# c_rate_d = '2C'\n",
    "# c_rate_c = '1.5C'\n",
    "c_rate_c ='C/5'\n",
    "c_rate_d ='C/5'"
   ]
  },
  {
   "cell_type": "code",
   "execution_count": 8,
   "metadata": {},
   "outputs": [],
   "source": [
    "# pybamm.set_logging_level(\"WARNING\")\n",
    "pybamm.set_logging_level(\"NOTICE\")\n",
    "experiment = pybamm.Experiment(\n",
    "    [\n",
    "        (\n",
    "        #  \"Rest for 10 minutes\", \n",
    "         \"Charge at \"+c_rate_c+\" until 4.2V\", \n",
    "         \"Hold at 4.2V until C/50\",\n",
    "        #  \"Rest for 20 minutes\",\n",
    "         )\n",
    "    ],\n",
    "    termination=\"50% capacity\",\n",
    "    period = \"10 sec\",\n",
    "#     cccv_handling=\"ode\",\n",
    ")\n",
    "\n",
    "experiment = pybamm.Experiment(\n",
    "    [\n",
    "        (\n",
    "         \"Charge at \"+c_rate_c+\" until 4.2V\", \n",
    "         \"Hold at 4.2V until C/50\",\n",
    "         \"Rest for 5 min\",\n",
    "         \"Discharge at \"+c_rate_d+\" until 3V\",\n",
    "        #  \"Discharge at \"+c_rate_d+\" for 150 min\",\n",
    "         )\n",
    "    ],\n",
    "    termination=\"50% capacity\",\n",
    "    period = \"10 sec\",\n",
    "#     cccv_handling=\"ode\",\n",
    ")\n",
    "SOC_0 = 0.5\n",
    "parameter_values.update(\n",
    "    {\n",
    "        \"Negative electrode LAM min stress [Pa]\": -4947907,\n",
    "        \"Negative electrode LAM max stress [Pa]\": 4948199,\n",
    "        \"Positive electrode LAM min stress [Pa]\": 0,\n",
    "        \"Positive electrode LAM max stress [Pa]\": 0,\n",
    "    },\n",
    "    check_already_exists=False,\n",
    ")"
   ]
  },
  {
   "cell_type": "code",
   "execution_count": 9,
   "metadata": {},
   "outputs": [
    {
     "name": "stderr",
     "output_type": "stream",
     "text": [
      "2023-08-25 07:56:00.699 - [NOTICE] callbacks.on_cycle_start(174): Cycle 1/1 (15.657 ms elapsed) --------------------\n",
      "2023-08-25 07:56:00.701 - [NOTICE] callbacks.on_step_start(182): Cycle 1/1, step 1/4: Charge at C/5 until 4.2V\n",
      "2023-08-25 07:56:00.822 - [NOTICE] callbacks.on_step_start(182): Cycle 1/1, step 2/4: Hold at 4.2V until C/50\n",
      "2023-08-25 07:56:00.945 - [NOTICE] callbacks.on_step_start(182): Cycle 1/1, step 3/4: Rest for 5 min\n",
      "2023-08-25 07:56:00.988 - [NOTICE] callbacks.on_step_start(182): Cycle 1/1, step 4/4: Discharge at C/5 until 3V\n",
      "2023-08-25 07:56:01.533 - [NOTICE] callbacks.on_cycle_end(196): Capacity is now 4.796 Ah (originally 4.796 Ah, will stop at 2.398 Ah)\n",
      "2023-08-25 07:56:01.534 - [NOTICE] callbacks.on_experiment_end(222): Finish experiment simulation, took 848.400 ms\n"
     ]
    }
   ],
   "source": [
    "sim_long = pybamm.Simulation(spm, experiment=experiment, parameter_values=parameter_values, \n",
    "                            solver=pybamm.CasadiSolver(\"safe\"))\n",
    "sol_long = sim_long.solve(initial_soc=SOC_0)\n",
    "solution1 = sol_long"
   ]
  },
  {
   "cell_type": "code",
   "execution_count": 10,
   "metadata": {},
   "outputs": [
    {
     "ename": "FileNotFoundError",
     "evalue": "[Errno 2] No such file or directory: '../data/cycling/peyman_drive_cycle_current.csv'",
     "output_type": "error",
     "traceback": [
      "\u001b[1;31m---------------------------------------------------------------------------\u001b[0m",
      "\u001b[1;31mFileNotFoundError\u001b[0m                         Traceback (most recent call last)",
      "\u001b[1;32m~\\AppData\\Local\\Temp/ipykernel_30960/562573534.py\u001b[0m in \u001b[0;36m<module>\u001b[1;34m\u001b[0m\n\u001b[0;32m     38\u001b[0m \u001b[1;31m#     cccv_handling=\"ode\",\u001b[0m\u001b[1;33m\u001b[0m\u001b[1;33m\u001b[0m\u001b[0m\n\u001b[0;32m     39\u001b[0m )\n\u001b[1;32m---> 40\u001b[1;33m \u001b[0mdrive_cycle\u001b[0m \u001b[1;33m=\u001b[0m \u001b[0mpd\u001b[0m\u001b[1;33m.\u001b[0m\u001b[0mread_csv\u001b[0m\u001b[1;33m(\u001b[0m\u001b[0mcyc_DIR\u001b[0m\u001b[1;33m+\u001b[0m\u001b[1;34m'peyman_drive_cycle_current'\u001b[0m\u001b[1;33m+\u001b[0m\u001b[1;34m'.csv'\u001b[0m\u001b[1;33m,\u001b[0m \u001b[0mcomment\u001b[0m\u001b[1;33m=\u001b[0m\u001b[1;34m\"#\"\u001b[0m\u001b[1;33m,\u001b[0m \u001b[0mheader\u001b[0m\u001b[1;33m=\u001b[0m\u001b[1;32mNone\u001b[0m\u001b[1;33m)\u001b[0m\u001b[1;33m.\u001b[0m\u001b[0mto_numpy\u001b[0m\u001b[1;33m(\u001b[0m\u001b[1;33m)\u001b[0m\u001b[1;33m\u001b[0m\u001b[1;33m\u001b[0m\u001b[0m\n\u001b[0m\u001b[0;32m     41\u001b[0m \u001b[1;31m# experiment = pybamm.Experiment(\u001b[0m\u001b[1;33m\u001b[0m\u001b[1;33m\u001b[0m\u001b[0m\n\u001b[0;32m     42\u001b[0m \u001b[1;31m#     [\u001b[0m\u001b[1;33m\u001b[0m\u001b[1;33m\u001b[0m\u001b[0m\n",
      "\u001b[1;32mc:\\Users\\pansr\\Documents\\Research\\PyBaMM\\.tox\\windows-dev\\lib\\site-packages\\pandas\\util\\_decorators.py\u001b[0m in \u001b[0;36mwrapper\u001b[1;34m(*args, **kwargs)\u001b[0m\n\u001b[0;32m    309\u001b[0m                     \u001b[0mstacklevel\u001b[0m\u001b[1;33m=\u001b[0m\u001b[0mstacklevel\u001b[0m\u001b[1;33m,\u001b[0m\u001b[1;33m\u001b[0m\u001b[1;33m\u001b[0m\u001b[0m\n\u001b[0;32m    310\u001b[0m                 )\n\u001b[1;32m--> 311\u001b[1;33m             \u001b[1;32mreturn\u001b[0m \u001b[0mfunc\u001b[0m\u001b[1;33m(\u001b[0m\u001b[1;33m*\u001b[0m\u001b[0margs\u001b[0m\u001b[1;33m,\u001b[0m \u001b[1;33m**\u001b[0m\u001b[0mkwargs\u001b[0m\u001b[1;33m)\u001b[0m\u001b[1;33m\u001b[0m\u001b[1;33m\u001b[0m\u001b[0m\n\u001b[0m\u001b[0;32m    312\u001b[0m \u001b[1;33m\u001b[0m\u001b[0m\n\u001b[0;32m    313\u001b[0m         \u001b[1;32mreturn\u001b[0m \u001b[0mwrapper\u001b[0m\u001b[1;33m\u001b[0m\u001b[1;33m\u001b[0m\u001b[0m\n",
      "\u001b[1;32mc:\\Users\\pansr\\Documents\\Research\\PyBaMM\\.tox\\windows-dev\\lib\\site-packages\\pandas\\io\\parsers\\readers.py\u001b[0m in \u001b[0;36mread_csv\u001b[1;34m(filepath_or_buffer, sep, delimiter, header, names, index_col, usecols, squeeze, prefix, mangle_dupe_cols, dtype, engine, converters, true_values, false_values, skipinitialspace, skiprows, skipfooter, nrows, na_values, keep_default_na, na_filter, verbose, skip_blank_lines, parse_dates, infer_datetime_format, keep_date_col, date_parser, dayfirst, cache_dates, iterator, chunksize, compression, thousands, decimal, lineterminator, quotechar, quoting, doublequote, escapechar, comment, encoding, encoding_errors, dialect, error_bad_lines, warn_bad_lines, on_bad_lines, delim_whitespace, low_memory, memory_map, float_precision, storage_options)\u001b[0m\n\u001b[0;32m    584\u001b[0m     \u001b[0mkwds\u001b[0m\u001b[1;33m.\u001b[0m\u001b[0mupdate\u001b[0m\u001b[1;33m(\u001b[0m\u001b[0mkwds_defaults\u001b[0m\u001b[1;33m)\u001b[0m\u001b[1;33m\u001b[0m\u001b[1;33m\u001b[0m\u001b[0m\n\u001b[0;32m    585\u001b[0m \u001b[1;33m\u001b[0m\u001b[0m\n\u001b[1;32m--> 586\u001b[1;33m     \u001b[1;32mreturn\u001b[0m \u001b[0m_read\u001b[0m\u001b[1;33m(\u001b[0m\u001b[0mfilepath_or_buffer\u001b[0m\u001b[1;33m,\u001b[0m \u001b[0mkwds\u001b[0m\u001b[1;33m)\u001b[0m\u001b[1;33m\u001b[0m\u001b[1;33m\u001b[0m\u001b[0m\n\u001b[0m\u001b[0;32m    587\u001b[0m \u001b[1;33m\u001b[0m\u001b[0m\n\u001b[0;32m    588\u001b[0m \u001b[1;33m\u001b[0m\u001b[0m\n",
      "\u001b[1;32mc:\\Users\\pansr\\Documents\\Research\\PyBaMM\\.tox\\windows-dev\\lib\\site-packages\\pandas\\io\\parsers\\readers.py\u001b[0m in \u001b[0;36m_read\u001b[1;34m(filepath_or_buffer, kwds)\u001b[0m\n\u001b[0;32m    480\u001b[0m \u001b[1;33m\u001b[0m\u001b[0m\n\u001b[0;32m    481\u001b[0m     \u001b[1;31m# Create the parser.\u001b[0m\u001b[1;33m\u001b[0m\u001b[1;33m\u001b[0m\u001b[0m\n\u001b[1;32m--> 482\u001b[1;33m     \u001b[0mparser\u001b[0m \u001b[1;33m=\u001b[0m \u001b[0mTextFileReader\u001b[0m\u001b[1;33m(\u001b[0m\u001b[0mfilepath_or_buffer\u001b[0m\u001b[1;33m,\u001b[0m \u001b[1;33m**\u001b[0m\u001b[0mkwds\u001b[0m\u001b[1;33m)\u001b[0m\u001b[1;33m\u001b[0m\u001b[1;33m\u001b[0m\u001b[0m\n\u001b[0m\u001b[0;32m    483\u001b[0m \u001b[1;33m\u001b[0m\u001b[0m\n\u001b[0;32m    484\u001b[0m     \u001b[1;32mif\u001b[0m \u001b[0mchunksize\u001b[0m \u001b[1;32mor\u001b[0m \u001b[0miterator\u001b[0m\u001b[1;33m:\u001b[0m\u001b[1;33m\u001b[0m\u001b[1;33m\u001b[0m\u001b[0m\n",
      "\u001b[1;32mc:\\Users\\pansr\\Documents\\Research\\PyBaMM\\.tox\\windows-dev\\lib\\site-packages\\pandas\\io\\parsers\\readers.py\u001b[0m in \u001b[0;36m__init__\u001b[1;34m(self, f, engine, **kwds)\u001b[0m\n\u001b[0;32m    809\u001b[0m             \u001b[0mself\u001b[0m\u001b[1;33m.\u001b[0m\u001b[0moptions\u001b[0m\u001b[1;33m[\u001b[0m\u001b[1;34m\"has_index_names\"\u001b[0m\u001b[1;33m]\u001b[0m \u001b[1;33m=\u001b[0m \u001b[0mkwds\u001b[0m\u001b[1;33m[\u001b[0m\u001b[1;34m\"has_index_names\"\u001b[0m\u001b[1;33m]\u001b[0m\u001b[1;33m\u001b[0m\u001b[1;33m\u001b[0m\u001b[0m\n\u001b[0;32m    810\u001b[0m \u001b[1;33m\u001b[0m\u001b[0m\n\u001b[1;32m--> 811\u001b[1;33m         \u001b[0mself\u001b[0m\u001b[1;33m.\u001b[0m\u001b[0m_engine\u001b[0m \u001b[1;33m=\u001b[0m \u001b[0mself\u001b[0m\u001b[1;33m.\u001b[0m\u001b[0m_make_engine\u001b[0m\u001b[1;33m(\u001b[0m\u001b[0mself\u001b[0m\u001b[1;33m.\u001b[0m\u001b[0mengine\u001b[0m\u001b[1;33m)\u001b[0m\u001b[1;33m\u001b[0m\u001b[1;33m\u001b[0m\u001b[0m\n\u001b[0m\u001b[0;32m    812\u001b[0m \u001b[1;33m\u001b[0m\u001b[0m\n\u001b[0;32m    813\u001b[0m     \u001b[1;32mdef\u001b[0m \u001b[0mclose\u001b[0m\u001b[1;33m(\u001b[0m\u001b[0mself\u001b[0m\u001b[1;33m)\u001b[0m\u001b[1;33m:\u001b[0m\u001b[1;33m\u001b[0m\u001b[1;33m\u001b[0m\u001b[0m\n",
      "\u001b[1;32mc:\\Users\\pansr\\Documents\\Research\\PyBaMM\\.tox\\windows-dev\\lib\\site-packages\\pandas\\io\\parsers\\readers.py\u001b[0m in \u001b[0;36m_make_engine\u001b[1;34m(self, engine)\u001b[0m\n\u001b[0;32m   1038\u001b[0m             )\n\u001b[0;32m   1039\u001b[0m         \u001b[1;31m# error: Too many arguments for \"ParserBase\"\u001b[0m\u001b[1;33m\u001b[0m\u001b[1;33m\u001b[0m\u001b[0m\n\u001b[1;32m-> 1040\u001b[1;33m         \u001b[1;32mreturn\u001b[0m \u001b[0mmapping\u001b[0m\u001b[1;33m[\u001b[0m\u001b[0mengine\u001b[0m\u001b[1;33m]\u001b[0m\u001b[1;33m(\u001b[0m\u001b[0mself\u001b[0m\u001b[1;33m.\u001b[0m\u001b[0mf\u001b[0m\u001b[1;33m,\u001b[0m \u001b[1;33m**\u001b[0m\u001b[0mself\u001b[0m\u001b[1;33m.\u001b[0m\u001b[0moptions\u001b[0m\u001b[1;33m)\u001b[0m  \u001b[1;31m# type: ignore[call-arg]\u001b[0m\u001b[1;33m\u001b[0m\u001b[1;33m\u001b[0m\u001b[0m\n\u001b[0m\u001b[0;32m   1041\u001b[0m \u001b[1;33m\u001b[0m\u001b[0m\n\u001b[0;32m   1042\u001b[0m     \u001b[1;32mdef\u001b[0m \u001b[0m_failover_to_python\u001b[0m\u001b[1;33m(\u001b[0m\u001b[0mself\u001b[0m\u001b[1;33m)\u001b[0m\u001b[1;33m:\u001b[0m\u001b[1;33m\u001b[0m\u001b[1;33m\u001b[0m\u001b[0m\n",
      "\u001b[1;32mc:\\Users\\pansr\\Documents\\Research\\PyBaMM\\.tox\\windows-dev\\lib\\site-packages\\pandas\\io\\parsers\\c_parser_wrapper.py\u001b[0m in \u001b[0;36m__init__\u001b[1;34m(self, src, **kwds)\u001b[0m\n\u001b[0;32m     49\u001b[0m \u001b[1;33m\u001b[0m\u001b[0m\n\u001b[0;32m     50\u001b[0m         \u001b[1;31m# open handles\u001b[0m\u001b[1;33m\u001b[0m\u001b[1;33m\u001b[0m\u001b[0m\n\u001b[1;32m---> 51\u001b[1;33m         \u001b[0mself\u001b[0m\u001b[1;33m.\u001b[0m\u001b[0m_open_handles\u001b[0m\u001b[1;33m(\u001b[0m\u001b[0msrc\u001b[0m\u001b[1;33m,\u001b[0m \u001b[0mkwds\u001b[0m\u001b[1;33m)\u001b[0m\u001b[1;33m\u001b[0m\u001b[1;33m\u001b[0m\u001b[0m\n\u001b[0m\u001b[0;32m     52\u001b[0m         \u001b[1;32massert\u001b[0m \u001b[0mself\u001b[0m\u001b[1;33m.\u001b[0m\u001b[0mhandles\u001b[0m \u001b[1;32mis\u001b[0m \u001b[1;32mnot\u001b[0m \u001b[1;32mNone\u001b[0m\u001b[1;33m\u001b[0m\u001b[1;33m\u001b[0m\u001b[0m\n\u001b[0;32m     53\u001b[0m \u001b[1;33m\u001b[0m\u001b[0m\n",
      "\u001b[1;32mc:\\Users\\pansr\\Documents\\Research\\PyBaMM\\.tox\\windows-dev\\lib\\site-packages\\pandas\\io\\parsers\\base_parser.py\u001b[0m in \u001b[0;36m_open_handles\u001b[1;34m(self, src, kwds)\u001b[0m\n\u001b[0;32m    220\u001b[0m         \u001b[0mLet\u001b[0m \u001b[0mthe\u001b[0m \u001b[0mreaders\u001b[0m \u001b[0mopen\u001b[0m \u001b[0mIOHandles\u001b[0m \u001b[0mafter\u001b[0m \u001b[0mthey\u001b[0m \u001b[0mare\u001b[0m \u001b[0mdone\u001b[0m \u001b[1;32mwith\u001b[0m \u001b[0mtheir\u001b[0m \u001b[0mpotential\u001b[0m \u001b[0mraises\u001b[0m\u001b[1;33m.\u001b[0m\u001b[1;33m\u001b[0m\u001b[1;33m\u001b[0m\u001b[0m\n\u001b[0;32m    221\u001b[0m         \"\"\"\n\u001b[1;32m--> 222\u001b[1;33m         self.handles = get_handle(\n\u001b[0m\u001b[0;32m    223\u001b[0m             \u001b[0msrc\u001b[0m\u001b[1;33m,\u001b[0m\u001b[1;33m\u001b[0m\u001b[1;33m\u001b[0m\u001b[0m\n\u001b[0;32m    224\u001b[0m             \u001b[1;34m\"r\"\u001b[0m\u001b[1;33m,\u001b[0m\u001b[1;33m\u001b[0m\u001b[1;33m\u001b[0m\u001b[0m\n",
      "\u001b[1;32mc:\\Users\\pansr\\Documents\\Research\\PyBaMM\\.tox\\windows-dev\\lib\\site-packages\\pandas\\io\\common.py\u001b[0m in \u001b[0;36mget_handle\u001b[1;34m(path_or_buf, mode, encoding, compression, memory_map, is_text, errors, storage_options)\u001b[0m\n\u001b[0;32m    700\u001b[0m         \u001b[1;32mif\u001b[0m \u001b[0mioargs\u001b[0m\u001b[1;33m.\u001b[0m\u001b[0mencoding\u001b[0m \u001b[1;32mand\u001b[0m \u001b[1;34m\"b\"\u001b[0m \u001b[1;32mnot\u001b[0m \u001b[1;32min\u001b[0m \u001b[0mioargs\u001b[0m\u001b[1;33m.\u001b[0m\u001b[0mmode\u001b[0m\u001b[1;33m:\u001b[0m\u001b[1;33m\u001b[0m\u001b[1;33m\u001b[0m\u001b[0m\n\u001b[0;32m    701\u001b[0m             \u001b[1;31m# Encoding\u001b[0m\u001b[1;33m\u001b[0m\u001b[1;33m\u001b[0m\u001b[0m\n\u001b[1;32m--> 702\u001b[1;33m             handle = open(\n\u001b[0m\u001b[0;32m    703\u001b[0m                 \u001b[0mhandle\u001b[0m\u001b[1;33m,\u001b[0m\u001b[1;33m\u001b[0m\u001b[1;33m\u001b[0m\u001b[0m\n\u001b[0;32m    704\u001b[0m                 \u001b[0mioargs\u001b[0m\u001b[1;33m.\u001b[0m\u001b[0mmode\u001b[0m\u001b[1;33m,\u001b[0m\u001b[1;33m\u001b[0m\u001b[1;33m\u001b[0m\u001b[0m\n",
      "\u001b[1;31mFileNotFoundError\u001b[0m: [Errno 2] No such file or directory: '../data/cycling/peyman_drive_cycle_current.csv'"
     ]
    }
   ],
   "source": [
    "# parameter_values.update(\n",
    "#     {\n",
    "#     #   \"Exchange-current density for plating [A.m-2]\":0.001,\n",
    "#     #   \"Lithium plating transfer coefficient\": 0.5,\n",
    "#     #   \"Dead lithium decay constant [s-1]\": 1E-4,\n",
    "#         # \"Exchange-current density for stripping [A.m-2]\": 0.00005,\n",
    "#     },\n",
    "#     check_already_exists=False,\n",
    "# )\n",
    "c_rate_c ='C/5'\n",
    "c_rate_c ='1.5C'\n",
    "c_rate_d ='1.5C'\n",
    "# c_rate_c ='2C'\n",
    "experiment = pybamm.Experiment(\n",
    "    [\n",
    "        (\n",
    "        #  \"Rest for 10 minutes\",\n",
    "         \"Charge at \"+c_rate_c+\" until 4.2V\", \n",
    "         \"Hold at 4.2V until C/50\",\n",
    "        #  \"Rest for 20 minutes\",\n",
    "         )\n",
    "    ],\n",
    "    termination=\"50% capacity\",\n",
    "    period = \"1 sec\",\n",
    "#     cccv_handling=\"ode\",\n",
    ")\n",
    "experiment = pybamm.Experiment(\n",
    "    [\n",
    "        (\n",
    "         \"Charge at \"+c_rate_c+\" until 4.2V\", \n",
    "         \"Hold at 4.2V until C/50\",\n",
    "         \"Rest for 5 min\",\n",
    "         \"Discharge at \"+c_rate_d+\" until 3V\",\n",
    "         )\n",
    "    ],\n",
    "    termination=\"50% capacity\",\n",
    "    period = \"1 sec\",\n",
    "#     cccv_handling=\"ode\",\n",
    ")\n",
    "drive_cycle = pd.read_csv(cyc_DIR+'peyman_drive_cycle_current'+'.csv', comment=\"#\", header=None).to_numpy()\n",
    "# experiment = pybamm.Experiment(\n",
    "#     [\n",
    "#         (\n",
    "#          \"Charge at \"+c_rate_c+\" until 4.2V\", \n",
    "#          \"Hold at 4.2V until C/50\",\n",
    "#          \"Rest for 5 min\",\n",
    "#          \"Run DriveCycle (A)\",\n",
    "#         )\n",
    "#     ] ,\n",
    "#     drive_cycles={\"DriveCycle\": drive_cycle},\n",
    "#     termination=\"50% capacity\",\n",
    "# #     cccv_handling=\"ode\",\n",
    "# )\n",
    "SOC_0 = 0.5\n",
    "parameter_values.update(\n",
    "    {\n",
    "        \"Negative electrode LAM min stress [Pa]\": -37947482,\n",
    "        \"Negative electrode LAM max stress [Pa]\": 37960494,\n",
    "        \"Positive electrode LAM min stress [Pa]\": 0,\n",
    "        \"Positive electrode LAM max stress [Pa]\": 0,\n",
    "    },\n",
    "    check_already_exists=False,\n",
    ")\n",
    "\n",
    "sim_long = pybamm.Simulation(spm, experiment=experiment, parameter_values=parameter_values, \n",
    "                            solver=pybamm.CasadiSolver(\"safe\"))\n",
    "sol_long = sim_long.solve(initial_soc=SOC_0)\n",
    "solution2 = sol_long"
   ]
  },
  {
   "cell_type": "code",
   "execution_count": null,
   "metadata": {},
   "outputs": [
    {
     "name": "stderr",
     "output_type": "stream",
     "text": [
      "2023-06-13 10:32:28.518 - [NOTICE] callbacks.on_cycle_start(174): Cycle 1/1 (14.952 ms elapsed) --------------------\n",
      "2023-06-13 10:32:28.519 - [NOTICE] callbacks.on_step_start(182): Cycle 1/1, step 1/4: Charge at C/5 until 4.2V\n",
      "2023-06-13 10:32:28.707 - [NOTICE] callbacks.on_step_start(182): Cycle 1/1, step 2/4: Hold at 4.2V until C/50\n",
      "2023-06-13 10:32:28.893 - [NOTICE] callbacks.on_step_start(182): Cycle 1/1, step 3/4: Rest for 5 min\n",
      "2023-06-13 10:32:28.936 - [NOTICE] callbacks.on_step_start(182): Cycle 1/1, step 4/4: Discharge at 1.5C until 3V\n",
      "2023-06-13 10:32:29.925 - [NOTICE] callbacks.on_cycle_end(196): Capacity is now 4.797 Ah (originally 4.797 Ah, will stop at 2.398 Ah)\n",
      "2023-06-13 10:32:29.926 - [NOTICE] callbacks.on_experiment_end(222): Finish experiment simulation, took 1.421 s\n"
     ]
    }
   ],
   "source": [
    "# parameter_values.update(\n",
    "#     {\n",
    "#     #   \"Exchange-current density for plating [A.m-2]\":0.001,\n",
    "#     #   \"Lithium plating transfer coefficient\": 0.5,\n",
    "#     #   \"Dead lithium decay constant [s-1]\": 1E-4,\n",
    "#         # \"Exchange-current density for stripping [A.m-2]\": 0.00005,\n",
    "#     },\n",
    "#     check_already_exists=False,\n",
    "# )\n",
    "# parameter_values.update(\n",
    "#     {\n",
    "#         \"Negative electrode LAM constant proportional term 2 [s-1]\": 7.5*par_val[sno][4],\n",
    "\n",
    "#     },\n",
    "#     check_already_exists=False,\n",
    "# ) \n",
    "c_rate_c ='C/5'\n",
    "# c_rate_c ='1.5C'\n",
    "c_rate_d ='1.5C'\n",
    "# c_rate_c ='2C'\n",
    "experiment = pybamm.Experiment(\n",
    "    [\n",
    "        (\n",
    "        #  \"Rest for 10 minutes\",\n",
    "         \"Charge at \"+c_rate_c+\" until 4.2V\", \n",
    "         \"Hold at 4.2V until C/50\",\n",
    "        #  \"Rest for 20 minutes\",\n",
    "         )\n",
    "    ],\n",
    "    termination=\"50% capacity\",\n",
    "    period = \"1 sec\",\n",
    "#     cccv_handling=\"ode\",\n",
    ")\n",
    "experiment = pybamm.Experiment(\n",
    "    [\n",
    "        (\n",
    "         \"Charge at \"+c_rate_c+\" until 4.2V\", \n",
    "         \"Hold at 4.2V until C/50\",\n",
    "         \"Rest for 5 min\",\n",
    "         \"Discharge at \"+c_rate_d+\" until 3V\",\n",
    "         )\n",
    "    ],\n",
    "    termination=\"50% capacity\",\n",
    "    period = \"1 sec\",\n",
    "#     cccv_handling=\"ode\",\n",
    ")\n",
    "drive_cycle = pd.read_csv(cyc_DIR+'peyman_drive_cycle_current'+'.csv', comment=\"#\", header=None).to_numpy()\n",
    "# experiment = pybamm.Experiment(\n",
    "#     [\n",
    "#         (\n",
    "#          \"Charge at \"+c_rate_c+\" until 4.2V\", \n",
    "#          \"Hold at 4.2V until C/50\",\n",
    "#          \"Rest for 5 min\",\n",
    "#          \"Run DriveCycle (A)\",\n",
    "#         )\n",
    "#     ] ,\n",
    "#     drive_cycles={\"DriveCycle\": drive_cycle},\n",
    "#     termination=\"50% capacity\",\n",
    "# #     cccv_handling=\"ode\",\n",
    "# )\n",
    "SOC_0 = 0.5\n",
    "\n",
    "parameter_values.update(\n",
    "    {\n",
    "        \"Negative electrode LAM min stress [Pa]\": -5083876,\n",
    "        \"Negative electrode LAM max stress [Pa]\": 38131043,\n",
    "        \"Positive electrode LAM min stress [Pa]\": 0,\n",
    "        \"Positive electrode LAM max stress [Pa]\": 0,\n",
    "    },\n",
    "    check_already_exists=False,\n",
    ")\n",
    "\n",
    "\n",
    "\n",
    "sim_long = pybamm.Simulation(spm, experiment=experiment, parameter_values=parameter_values, \n",
    "                            solver=pybamm.CasadiSolver(\"safe\"))\n",
    "sol_long = sim_long.solve(initial_soc=SOC_0)\n",
    "solution3 = sol_long"
   ]
  },
  {
   "cell_type": "code",
   "execution_count": null,
   "metadata": {},
   "outputs": [
    {
     "name": "stderr",
     "output_type": "stream",
     "text": [
      "2023-06-13 10:32:31.496 - [NOTICE] callbacks.on_cycle_start(174): Cycle 1/1 (13.939 ms elapsed) --------------------\n",
      "2023-06-13 10:32:31.497 - [NOTICE] callbacks.on_step_start(182): Cycle 1/1, step 1/4: Charge at 1.5C until 4.2V\n",
      "2023-06-13 10:32:31.587 - [NOTICE] callbacks.on_step_start(182): Cycle 1/1, step 2/4: Hold at 4.2V until C/50\n",
      "2023-06-13 10:32:31.697 - [NOTICE] callbacks.on_step_start(182): Cycle 1/1, step 3/4: Rest for 5 min\n",
      "2023-06-13 10:32:31.808 - [NOTICE] callbacks.on_step_start(182): Cycle 1/1, step 4/4: Run DriveCycle (A)\n",
      "2023-06-13 10:32:33.066 - [NOTICE] callbacks.on_cycle_end(196): Capacity is now 4.792 Ah (originally 4.792 Ah, will stop at 2.396 Ah)\n",
      "2023-06-13 10:32:33.066 - [NOTICE] callbacks.on_experiment_end(222): Finish experiment simulation, took 1.583 s\n"
     ]
    }
   ],
   "source": [
    "c_rate_c = '1.5C'\n",
    "drive_cycle = pd.read_csv(cyc_DIR+'peyman_drive_cycle_current'+'.csv', comment=\"#\", header=None).to_numpy()\n",
    "experiment = pybamm.Experiment(\n",
    "    [\n",
    "        (\n",
    "         \"Charge at \"+c_rate_c+\" until 4.2V\", \n",
    "         \"Hold at 4.2V until C/50\",\n",
    "         \"Rest for 5 min\",\n",
    "         \"Run DriveCycle (A)\",\n",
    "        )\n",
    "    ] ,\n",
    "    drive_cycles={\"DriveCycle\": drive_cycle},\n",
    "    termination=\"50% capacity\",\n",
    "#     cccv_handling=\"ode\",\n",
    ")\n",
    "SOC_0 = 0 \n",
    "\n",
    "parameter_values.update(\n",
    "    {\n",
    "        \"Negative electrode LAM min stress [Pa]\": -28221466,\n",
    "        \"Negative electrode LAM max stress [Pa]\":  17687100,\n",
    "        \"Positive electrode LAM min stress [Pa]\": 0,\n",
    "        \"Positive electrode LAM max stress [Pa]\": 0,\n",
    "    },\n",
    "    check_already_exists=False,\n",
    ")\n",
    "\n",
    "sim_long = pybamm.Simulation(spm, experiment=experiment, parameter_values=parameter_values, \n",
    "                            solver=pybamm.CasadiSolver(\"safe\"))\n",
    "sol_long = sim_long.solve(initial_soc=SOC_0)\n",
    "solution4 = sol_long"
   ]
  },
  {
   "cell_type": "code",
   "execution_count": null,
   "metadata": {},
   "outputs": [],
   "source": [
    "def plot_vars(solution):\n",
    "    t =  solution[\"Time [s]\"].entries\n",
    "    t = t/3600\n",
    "    V =  solution[\"Terminal voltage [V]\"].entries\n",
    "    I =  solution[\"Current [A]\"].entries\n",
    "    Q = -solution['Discharge capacity [A.h]'].entries\n",
    "    Q_Li = solution[\"Loss of capacity to lithium plating [A.h]\"].entries\n",
    "    I_Li = solution[\"X-averaged lithium plating interfacial current density [A.m-2]\"].entries\n",
    "\n",
    "    I_de = solution[\"X-averaged negative electrode interfacial current density [A.m-2]\"].entries\n",
    "    I_st = solution[\"X-averaged lithium plating interfacial current density\"].entries\n",
    "    I_to = solution[\"X-averaged negative electrode total interfacial current density [A.m-2]\"].entries\n",
    "\n",
    "    # phi_seif = solution[\"X-averaged SEI film overpotential [V]\"].entries\n",
    "    phi_seif = []\n",
    "    # phi_sei  = solution[\"X-averaged negative electrode sei reaction overpotential [V]\"].entries\n",
    "    phi_sei  = []\n",
    "    # phi_sei = 0\n",
    "    phi_pl  = solution[\"X-averaged negative electrode lithium plating reaction overpotential [V]\"].entries\n",
    "    phi_pl_nd  = solution[\"X-averaged negative electrode lithium plating reaction overpotential\"].entries\n",
    "    phi_del = solution[\"X-averaged negative electrode surface potential difference [V]\"].entries\n",
    "\n",
    "    phi_ocp = solution[\"X-averaged negative electrode open circuit potential [V]\"].entries\n",
    "    phi_int = solution[\"X-averaged negative electrode reaction overpotential [V]\"].entries\n",
    "\n",
    "    i0_int = solution[\"X-averaged negative electrode exchange current density [A.m-2]\"].entries\n",
    "    phi_e_avg = solution[\"X-averaged negative electrolyte potential [V]\"].entries\n",
    "    c_e_avg = solution[\"X-averaged negative electrolyte concentration [mol.m-3]\"].entries\n",
    "    c_ss_n = solution[\"X-averaged negative particle surface concentration\"].entries\n",
    "    c_save_n1 = solution[\"R-averaged negative particle concentration\"].entries\n",
    "    c_save_n = c_save_n1[1,:]\n",
    "    c_s_n = solution[\"X-averaged negative particle concentration\"].entries\n",
    "\n",
    "    u_css_n = solution[\"X-averaged negative electrode open circuit potential [V]\"].entries\n",
    "\n",
    "    # j_pl = solution[\"Negative electrode lithium plating interfacial current density [A.m-2]\"].entries\n",
    "    j_pl = []\n",
    "    # eta_pl = solution[\"Negative electrode lithium plating reaction overpotential [V]\"].entries\n",
    "    eta_pl = []\n",
    "    sigma_ts_n = solution[\"X-averaged negative particle surface tangential stress [Pa]\"].entries\n",
    "    sigma_rs_n = solution[\"X-averaged negative particle surface radial stress [Pa]\"].entries\n",
    "    sigma_hs_n = (sigma_rs_n+2*sigma_ts_n)/2\n",
    "    sigma_ts_p = solution[\"X-averaged positive particle surface tangential stress [Pa]\"].entries\n",
    "    sigma_rs_p = solution[\"X-averaged positive particle surface radial stress [Pa]\"].entries\n",
    "    sigma_hs_p = (sigma_rs_p+2*sigma_ts_p)/2\n",
    "    # sigma_ts_n = []\n",
    "    # sigma_rs_n = []\n",
    "    # sigma_hs_n = []\n",
    "    # sigma_ts_p = []\n",
    "    # sigma_rs_p = []\n",
    "    # sigma_hs_p = []\n",
    "\n",
    "    C_n = solution[\"Negative electrode capacity [A.h]\"].entries\n",
    "    C_p = solution[\"Positive electrode capacity [A.h]\"].entries\n",
    "\n",
    "    return t,V,I,Q,Q_Li,I_Li,I_de,I_st,I_to,phi_seif,phi_sei,phi_pl,phi_del,phi_ocp,phi_int,i0_int,phi_e_avg,c_e_avg,c_ss_n,c_save_n,c_s_n,u_css_n,j_pl,eta_pl,sigma_hs_n,C_n,sigma_hs_p,C_p"
   ]
  },
  {
   "attachments": {},
   "cell_type": "markdown",
   "metadata": {},
   "source": [
    "# Compare Stress, Plating C Rates"
   ]
  },
  {
   "cell_type": "code",
   "execution_count": null,
   "metadata": {},
   "outputs": [],
   "source": [
    "t1,V1,I1,Q1,Q_Li1,I_Li1,I_de1,I_st1,I_to1,phi_seif1,phi_sei1,phi_pl1,phi_del1,phi_ocp1,phi_int1,i0_int1,phi_e_avg1,c_e_avg1,c_ss_n1,c_save_n1,c_s_n1,u_css_n1,j_pl1,eta_pl1,sigma_hs_n1,C_n1,sigma_hs_p1,C_p1 = plot_vars(solution1)\n",
    "t2,V2,I2,Q2,Q_Li2,I_Li2,I_de2,I_st2,I_to2,phi_seif2,phi_sei2,phi_pl2,phi_del2,phi_ocp2,phi_int2,i0_int2,phi_e_avg2,c_e_avg2,c_ss_n2,c_save_n2,c_s_n2,u_css_n2,j_pl2,eta_pl2,sigma_hs_n2,C_n2,sigma_hs_p2,C_p2 = plot_vars(solution2)\n",
    "t3,V3,I3,Q3,Q_Li3,I_Li3,I_de3,I_st3,I_to3,phi_seif3,phi_sei3,phi_pl3,phi_del3,phi_ocp3,phi_int3,i0_int3,phi_e_avg3,c_e_avg3,c_ss_n3,c_save_n3,c_s_n3,u_css_n3,j_pl3,eta_pl3,sigma_hs_n3,C_n3,sigma_hs_p3,C_p3 = plot_vars(solution3)"
   ]
  },
  {
   "cell_type": "code",
   "execution_count": null,
   "metadata": {},
   "outputs": [],
   "source": [
    "t4,V4,I4,Q4,Q_Li4,I_Li4,I_de4,I_st4,I_to4,phi_seif4,phi_sei4,phi_pl4,phi_del4,phi_ocp4,phi_int4,i0_int4,phi_e_avg4,c_e_avg4,c_ss_n4,c_save_n4,c_s_n4,u_css_n4,j_pl4,eta_pl4,sigma_hs_n4,C_n4,sigma_hs_p4,C_p4 = plot_vars(solution4)"
   ]
  },
  {
   "cell_type": "code",
   "execution_count": null,
   "metadata": {},
   "outputs": [
    {
     "name": "stdout",
     "output_type": "stream",
     "text": [
      "-5083014.720804467\n",
      "5087671.38209612\n",
      "-38111218.66825918\n",
      "38165104.90579485\n",
      "-5083201.504023985\n",
      "38144848.34977405\n"
     ]
    }
   ],
   "source": [
    "print(min(sigma_hs_n1))\n",
    "print(max(sigma_hs_n1))\n",
    "print(min(sigma_hs_n2))\n",
    "print(max(sigma_hs_n2))\n",
    "print(min(sigma_hs_n3))\n",
    "print(max(sigma_hs_n3))"
   ]
  },
  {
   "cell_type": "code",
   "execution_count": null,
   "metadata": {},
   "outputs": [],
   "source": []
  },
  {
   "cell_type": "code",
   "execution_count": null,
   "metadata": {},
   "outputs": [],
   "source": [
    "beta_LAM_n = param.n.beta_LAM_dimensional\n",
    "beta_LAM2_n = param.n.beta_LAM_dimensional2\n",
    "m_LAM_n = param.n.m_LAM\n",
    "stress_critical_n = param.n.stress_critical_dim\n",
    "j_stress_LAM_n1 = parameter_values.evaluate(-beta_LAM_n*(abs(min(sigma_hs_n1)) / stress_critical_n) ** m_LAM_n + 1*beta_LAM2_n*(abs(max(sigma_hs_n1)) / stress_critical_n) ** m_LAM_n)\n",
    "j_stress_LAM_n2 = parameter_values.evaluate(-beta_LAM_n*(abs(min(sigma_hs_n2)) / stress_critical_n) ** m_LAM_n + 1*beta_LAM2_n*(abs(max(sigma_hs_n2)) / stress_critical_n) ** m_LAM_n)\n",
    "j_stress_LAM_n3 = parameter_values.evaluate(-beta_LAM_n*(abs(min(sigma_hs_n3)) / stress_critical_n) ** m_LAM_n + 1*beta_LAM2_n*(abs(max(sigma_hs_n3)) / stress_critical_n) ** m_LAM_n)"
   ]
  },
  {
   "cell_type": "code",
   "execution_count": null,
   "metadata": {},
   "outputs": [],
   "source": [
    "beta1= 1.8157e-07\n",
    "beta2= -4.917e-09"
   ]
  },
  {
   "cell_type": "code",
   "execution_count": null,
   "metadata": {},
   "outputs": [
    {
     "data": {
      "text/plain": [
       "-36.9269880008135"
      ]
     },
     "execution_count": 19,
     "metadata": {},
     "output_type": "execute_result"
    }
   ],
   "source": [
    "beta1/beta2"
   ]
  },
  {
   "cell_type": "code",
   "execution_count": null,
   "metadata": {},
   "outputs": [
    {
     "name": "stdout",
     "output_type": "stream",
     "text": [
      "1.8157e-07\n",
      "-4.917e-09\n"
     ]
    }
   ],
   "source": [
    "print(parameter_values.evaluate(beta_LAM_n))\n",
    "print(parameter_values.evaluate(beta_LAM2_n))"
   ]
  },
  {
   "cell_type": "code",
   "execution_count": null,
   "metadata": {},
   "outputs": [
    {
     "data": {
      "text/plain": [
       "-36.9269880008135"
      ]
     },
     "execution_count": 21,
     "metadata": {},
     "output_type": "execute_result"
    }
   ],
   "source": [
    "parameter_values.evaluate(beta_LAM_n)/parameter_values.evaluate(beta_LAM2_n)"
   ]
  },
  {
   "cell_type": "code",
   "execution_count": null,
   "metadata": {},
   "outputs": [
    {
     "data": {
      "text/plain": [
       "36.89056785851011"
      ]
     },
     "execution_count": 22,
     "metadata": {},
     "output_type": "execute_result"
    }
   ],
   "source": [
    "parameter_values.evaluate(-beta_LAM_n*(abs(min(sigma_hs_n1)) / stress_critical_n) ** m_LAM_n)/ parameter_values.evaluate(beta_LAM2_n*(abs(max(sigma_hs_n1)) / stress_critical_n) ** m_LAM_n)"
   ]
  },
  {
   "cell_type": "code",
   "execution_count": null,
   "metadata": {},
   "outputs": [
    {
     "data": {
      "text/plain": [
       "36.870807052466816"
      ]
     },
     "execution_count": 23,
     "metadata": {},
     "output_type": "execute_result"
    }
   ],
   "source": [
    "parameter_values.evaluate(-beta_LAM_n*(abs(min(sigma_hs_n2)) / stress_critical_n) ** m_LAM_n)/ parameter_values.evaluate(beta_LAM2_n*(abs(max(sigma_hs_n2)) / stress_critical_n) ** m_LAM_n)"
   ]
  },
  {
   "cell_type": "code",
   "execution_count": null,
   "metadata": {},
   "outputs": [
    {
     "data": {
      "text/plain": [
       "4.208449787864046"
      ]
     },
     "execution_count": 24,
     "metadata": {},
     "output_type": "execute_result"
    }
   ],
   "source": [
    "parameter_values.evaluate(-beta_LAM_n*(abs(min(sigma_hs_n3)) / stress_critical_n) ** m_LAM_n)/ parameter_values.evaluate(beta_LAM2_n*(abs(max(sigma_hs_n3)) / stress_critical_n) ** m_LAM_n)"
   ]
  },
  {
   "cell_type": "code",
   "execution_count": null,
   "metadata": {},
   "outputs": [],
   "source": [
    "# j_stress_LAM_n1 = -1.2671327275496018e-08\n",
    "# j_stress_LAM_n2 = -1.1382681231454379e-07\n",
    "# j_stress_LAM_n3 = -1.571975948605771e-08"
   ]
  },
  {
   "cell_type": "code",
   "execution_count": null,
   "metadata": {},
   "outputs": [
    {
     "name": "stdout",
     "output_type": "stream",
     "text": [
      "-1.3044891323028042e-08\n",
      "-1.1435963459486492e-07\n",
      "-1.5719119678014853e-08\n"
     ]
    }
   ],
   "source": [
    "print(j_stress_LAM_n1)\n",
    "print(j_stress_LAM_n2)\n",
    "print(j_stress_LAM_n3)"
   ]
  },
  {
   "cell_type": "code",
   "execution_count": null,
   "metadata": {},
   "outputs": [],
   "source": [
    "act_n_loss1 = j_stress_LAM_n1*t1[-1]*3600\n",
    "act_n_loss2 = j_stress_LAM_n2*t2[-1]*3600\n",
    "act_n_loss3 = j_stress_LAM_n3*t3[-1]*3600"
   ]
  },
  {
   "cell_type": "code",
   "execution_count": null,
   "metadata": {},
   "outputs": [
    {
     "name": "stdout",
     "output_type": "stream",
     "text": [
      "-0.0003440298441608439\n",
      "-0.0005092148307306536\n",
      "-0.00017996762262800005\n"
     ]
    }
   ],
   "source": [
    "print(act_n_loss1)\n",
    "print(act_n_loss2)\n",
    "print(act_n_loss3)"
   ]
  },
  {
   "cell_type": "code",
   "execution_count": null,
   "metadata": {},
   "outputs": [
    {
     "data": {
      "application/vnd.jupyter.widget-view+json": {
       "model_id": "ff3d4110978b40d9abbbb09102d80a84",
       "version_major": 2,
       "version_minor": 0
      },
      "image/png": "[encoded data removed]",
      "text/html": [
       "\n",
       "            <div style=\"display: inline-block;\">\n",
       "                <div class=\"jupyter-widgets widget-label\" style=\"text-align: center;\">\n",
       "                    Figure\n",
       "                </div>\n",
       "                <img src='data:image/png;base64,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' width=800.0/>\n",
       "            </div>\n",
       "        "
      ],
      "text/plain": [
       "Canvas(toolbar=Toolbar(toolitems=[('Home', 'Reset original view', 'home', 'home'), ('Back', 'Back to previous …"
      ]
     },
     "metadata": {},
     "output_type": "display_data"
    }
   ],
   "source": [
    "# sigma_hs_n1_min = min(sigma_hs_n1/1e6)\n",
    "# sigma_hs_n2_min = min(sigma_hs_n2/1e6)\n",
    "# print(sigma_hs_n2_min/sigma_hs_n1_min)\n",
    "# print(max(C_n2[0]-C_n2)/max(C_n1[0]-C_n1))\n",
    "fig, ax = plt.subplots(1, 2, figsize=(8, 5))\n",
    "ax1 = ax.flat[0]\n",
    "ax1.plot(t1,sigma_hs_n1,'--',color='tab:blue')\n",
    "ax1.plot(t2,sigma_hs_n2,'--',color='tab:orange')\n",
    "ax1.plot(t3,sigma_hs_n3,'--',color='tab:red')\n",
    "ax1.plot(t4,sigma_hs_n4,'--',color='tab:green')\n",
    "ax1.set_title(r'$\\sigma^-_{h,surf}$ [Pa]')\n",
    "ax1.set_xlabel('Time [h]')\n",
    "ax2 = ax.flat[1]\n",
    "ax2.plot(t1,C_n1[0]-C_n1,'--',color='tab:blue')\n",
    "ax2.plot(t2,C_n2[0]-C_n2,'--',color='tab:orange')\n",
    "ax2.plot(t3,C_n3[0]-C_n3,'--',color='tab:red')\n",
    "ax2.plot(t4,C_n4[0]-C_n4,'--',color='tab:green')\n",
    "ax2.set_title(r'$C_{n,loss}$ [Ah]')\n",
    "ax2.set_xlabel('Time [h]')\n",
    "ax1.legend([\"C/5\",\"1.5C\",\"Assymmetric\",\"DC\"])\n",
    "# ax1.legend([\"C/5\",\"1.5C\",\"Mixed\"])\n",
    "fig.tight_layout()\n",
    "plt.show()\n",
    "# plt.savefig(fig_DIR+'negative_electrode_stress'+'.png')\n",
    "# plt.savefig(fig_DIR+'negative_electrode_stress_mixed'+'.png')"
   ]
  },
  {
   "cell_type": "code",
   "execution_count": 19,
   "metadata": {},
   "outputs": [],
   "source": [
    "def graphite_volume_change_rate_mohtat(sto,c_s_max):\n",
    "    stoichpoints = np.array([0,0.12,0.18,0.24,0.50,1])\n",
    "    thicknesspoints = np.array([0,2.406/100,3.3568/100,4.3668/100,5.583/100,13.0635/100])\n",
    "    i = 0\n",
    "    if sto>=stoichpoints[i] and sto<stoichpoints[i+1]:\n",
    "        t_change = (thicknesspoints[i+1]-thicknesspoints[i])/(stoichpoints[i+1]-stoichpoints[i])\n",
    "    i = 1\n",
    "    if sto>=stoichpoints[i] and sto<stoichpoints[i+1]:\n",
    "        t_change = (thicknesspoints[i+1]-thicknesspoints[i])/(stoichpoints[i+1]-stoichpoints[i])\n",
    "    i = 2\n",
    "    if sto>=stoichpoints[i] and sto<stoichpoints[i+1]:\n",
    "        t_change = (thicknesspoints[i+1]-thicknesspoints[i])/(stoichpoints[i+1]-stoichpoints[i])\n",
    "    i = 3\n",
    "    if sto>=stoichpoints[i] and sto<stoichpoints[i+1]:\n",
    "        t_change = (thicknesspoints[i+1]-thicknesspoints[i])/(stoichpoints[i+1]-stoichpoints[i])\n",
    "    i = 4\n",
    "    if sto>=stoichpoints[i] and sto<=stoichpoints[i+1]:\n",
    "        t_change = (thicknesspoints[i+1]-thicknesspoints[i])/(stoichpoints[i+1]-stoichpoints[i])\n",
    "\n",
    "    return t_change"
   ]
  },
  {
   "cell_type": "code",
   "execution_count": 27,
   "metadata": {},
   "outputs": [
    {
     "data": {
      "application/vnd.jupyter.widget-view+json": {
       "model_id": "1c0cf57d0a2a42cba0429b25a48939c2",
       "version_major": 2,
       "version_minor": 0
      },
      "image/png": "[encoded data removed]",
      "text/html": [
       "\n",
       "            <div style=\"display: inline-block;\">\n",
       "                <div class=\"jupyter-widgets widget-label\" style=\"text-align: center;\">\n",
       "                    Figure\n",
       "                </div>\n",
       "                <img src='data:image/png;base64,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' width=500.0/>\n",
       "            </div>\n",
       "        "
      ],
      "text/plain": [
       "Canvas(toolbar=Toolbar(toolitems=[('Home', 'Reset original view', 'home', 'home'), ('Back', 'Back to previous …"
      ]
     },
     "metadata": {},
     "output_type": "display_data"
    }
   ],
   "source": [
    "cs_max_n = 28746.0\n",
    "sto = np.linspace(0,cs_max_n,1000)\n",
    "yout = np.zeros(len(sto))\n",
    "for i in range(len(sto)):\n",
    "    yout[i] = graphite_volume_change_rate_mohtat(sto[i]/cs_max_n,cs_max_n)\n",
    "fig, ax = plt.subplots(1, 1, figsize=(5, 4))\n",
    "ax.plot(sto,yout/cs_max_n,'k')\n",
    "ax.set_xlabel(r'Concentration in Negative Electrode $c^-_{s}$')\n",
    "# ax.set_ylabel(r'$\\Delta\\mathit{V}$')\n",
    "ax.set_title(\"Graphite Volumetric Strain Rate\")\n",
    "fig.tight_layout()\n",
    "plt.show()\n",
    "plt.savefig(fig_DIR+'graphtite_vol_strain_rate'+'.png')"
   ]
  },
  {
   "cell_type": "code",
   "execution_count": 15,
   "metadata": {},
   "outputs": [
    {
     "data": {
      "application/vnd.jupyter.widget-view+json": {
       "model_id": "0bf85cfcad10436da696fac4cc802bbd",
       "version_major": 2,
       "version_minor": 0
      },
      "image/png": "[encoded data removed]",
      "text/html": [
       "\n",
       "            <div style=\"display: inline-block;\">\n",
       "                <div class=\"jupyter-widgets widget-label\" style=\"text-align: center;\">\n",
       "                    Figure\n",
       "                </div>\n",
       "                <img src='data:image/png;base64,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' width=500.0/>\n",
       "            </div>\n",
       "        "
      ],
      "text/plain": [
       "Canvas(toolbar=Toolbar(toolitems=[('Home', 'Reset original view', 'home', 'home'), ('Back', 'Back to previous …"
      ]
     },
     "metadata": {},
     "output_type": "display_data"
    }
   ],
   "source": [
    "cs_max_n = 28746.0\n",
    "sto = np.linspace(0,cs_max_n,100)\n",
    "yout = np.zeros(len(sto))\n",
    "for i in range(len(sto)):\n",
    "    yout[i] = graphite_volume_change_mohtat(sto[i]/cs_max_n,29000).evaluate()\n",
    "fig, ax = plt.subplots(1, 1, figsize=(5, 4))\n",
    "ax.plot(sto,yout,'k')\n",
    "ax.set_xlabel(r'Concentration in Negative Electrode $c^-_{s}$')\n",
    "# ax.set_ylabel(r'$\\Delta\\mathit{V}$')\n",
    "ax.set_title(\"Graphite Volumetric Strain Function\")\n",
    "fig.tight_layout()\n",
    "plt.show()\n",
    "plt.savefig(fig_DIR+'graphtite_vol_strain'+'.png')"
   ]
  },
  {
   "cell_type": "code",
   "execution_count": null,
   "metadata": {},
   "outputs": [
    {
     "ename": "NameError",
     "evalue": "name 'dfgdfg' is not defined",
     "output_type": "error",
     "traceback": [
      "\u001b[1;31m---------------------------------------------------------------------------\u001b[0m",
      "\u001b[1;31mNameError\u001b[0m                                 Traceback (most recent call last)",
      "\u001b[1;32mc:\\Users\\spannala\\PyBaMM\\gmproj\\cycling_aging\\mech_stress_crate.ipynb Cell 33\u001b[0m in \u001b[0;36m<cell line: 1>\u001b[1;34m()\u001b[0m\n\u001b[1;32m----> <a href='vscode-notebook-cell:/c%3A/Users/spannala/PyBaMM/gmproj/cycling_aging/mech_stress_crate.ipynb#Y121sZmlsZQ%3D%3D?line=0'>1</a>\u001b[0m dfgdfg\n",
      "\u001b[1;31mNameError\u001b[0m: name 'dfgdfg' is not defined"
     ]
    }
   ],
   "source": [
    "dfgdfg"
   ]
  },
  {
   "cell_type": "code",
   "execution_count": null,
   "metadata": {},
   "outputs": [],
   "source": [
    "sto = np.linspace(0,1,100)\n",
    "yout = np.zeros(len(sto))\n",
    "yout1 = np.zeros(len(sto))\n",
    "for i in range(len(sto)):\n",
    "    yout[i] = graphite_volume_change(sto[i])\n",
    "    yout1[i] = graphite_volume_change_mohtat(sto[i]).evaluate()\n",
    "plt.figure()\n",
    "plt.plot(sto,yout)\n",
    "plt.plot(sto,yout1,'--')\n",
    "plt.xlim([0,1])\n",
    "plt.legend(['Matlab','PyBaMM Interpolant'])\n",
    "plt.xlabel('Stoich')\n",
    "plt.ylabel('Volumetric Strain')\n",
    "plt.title('Graphite Vol Strain Function')\n",
    "plt.savefig('exp_func')"
   ]
  },
  {
   "cell_type": "code",
   "execution_count": null,
   "metadata": {},
   "outputs": [],
   "source": [
    "# fig, ax = plt.subplots(1, 2, figsize=(6, 4))\n",
    "# ax1 = ax.flat[0]\n",
    "# ax1.plot(t1,sigma_hs_p1,'b--')\n",
    "# ax1.plot(t2,sigma_hs_p2,'r--')\n",
    "# ax1.set_title(r'$\\sigma^+_{h,surf}$ [Pa]')\n",
    "# ax2 = ax.flat[1]\n",
    "# ax2.plot(t1,C_p1[0]-C_p1,'b--')\n",
    "# ax2.plot(t2,C_p2[0]-C_p2,'r--')\n",
    "# ax2.set_title(r'$C_{p,loss}$ [Ah]')\n",
    "# fig.tight_layout()\n",
    "# plt.savefig(fig_DIR+'positive_electrode_stress'+'.png')"
   ]
  },
  {
   "cell_type": "code",
   "execution_count": null,
   "metadata": {},
   "outputs": [],
   "source": [
    "# sigma_hs_p1_min = min(sigma_hs_p1/1e6)\n",
    "# sigma_hs_p2_min = min(sigma_hs_p2/1e6)\n",
    "# print(sigma_hs_p1_min)\n",
    "# print(sigma_hs_p2_min)\n",
    "# print(sigma_hs_p2_min/sigma_hs_p1_min)"
   ]
  },
  {
   "cell_type": "code",
   "execution_count": null,
   "metadata": {},
   "outputs": [],
   "source": [
    "# parameter_values.search(\"max\")"
   ]
  },
  {
   "cell_type": "code",
   "execution_count": null,
   "metadata": {},
   "outputs": [],
   "source": [
    "# aSAs"
   ]
  },
  {
   "cell_type": "code",
   "execution_count": null,
   "metadata": {},
   "outputs": [],
   "source": [
    "# fig, axes = plt.subplots(2, 3, figsize=(8, 6))\n",
    "# ax1 = axes.flat[0]\n",
    "# ax1.plot(t1,V1,'b')\n",
    "# ax1.plot(t2,V2,'rv-')\n",
    "# ax1.set_title('Voltage [V]')\n",
    "# ax3 = axes.flat[3]\n",
    "# ax3.plot(t1,phi_pl1,'b')\n",
    "# ax3.plot(t2,phi_pl2,'rv-')\n",
    "# ax3.set_ylim([-0.1,1])\n",
    "# ax3.set_title('Plating Overpotential [V]')\n",
    "# ax4 = axes.flat[5]\n",
    "# ax4.plot(t1,phi_sei1,'b')\n",
    "# ax4.plot(t2,phi_sei2,'rv-')\n",
    "# # ax4.set_ylim([-0.1,1])\n",
    "# ax4.set_title('SEI Overpotential [V]')\n",
    "# ax2 = axes.flat[2]\n",
    "# ax2.plot(t1,Q_Li1,'b')\n",
    "# ax2.plot(t2,Q_Li2,'rv-')\n",
    "# ax2.set_title('Capacity lost due to plating [Ah]')\n",
    "# ax6=axes.flat[1]\n",
    "# ax6.plot(t1,I_Li1,'b')\n",
    "# ax6.plot(t2,I_Li2,'rv-')\n",
    "# ax6.set_title('Lithium plating interfacial current density')\n",
    "# ax5=axes.flat[4]\n",
    "# ax5.plot(t1,phi_del1,'b')\n",
    "# ax5.plot(t2,phi_del2,'rv-')\n",
    "# ax5.set_ylim([-0.1,1])\n",
    "\n",
    "# ax1.plot(t3,V3,'g--')\n",
    "# ax3.plot(t3,phi_pl3,'g--')\n",
    "# ax4.plot(t3,phi_sei3,'g--')\n",
    "# ax2.plot(t3,Q_Li3,'g--')\n",
    "# ax6.plot(t3,I_Li3,'g--')\n",
    "# ax5.plot(t3,phi_del3,'g--')\n",
    "# ax5.set_title('Neg Elec Surf Pot Diff [V]')\n",
    "# # ax5.set_ylim([-0.1,1])\n",
    "# # ax1.legend(['baseline',r'decreasing $\\alpha_{pl}$',r'Increasing $k_{0,pl}$'])\n",
    "# # ax1.legend(['Irreversible ','Reversible','Partially Reversible'])\n",
    "# ax1.legend(['C/5','1.5C','New Params'])\n",
    "# # ax1.legend(['SPM','SPMe'])\n",
    "# fig.tight_layout()\n",
    "# # plt.savefig(fig_DIR+'plating_models_parameters'+'.png')\n",
    "# plt.savefig(fig_DIR+'plating_compare_crate'+'.png')\n",
    "# # plt.savefig(fig_DIR+'plating_compare_spme'+'.png')"
   ]
  },
  {
   "cell_type": "code",
   "execution_count": null,
   "metadata": {},
   "outputs": [],
   "source": [
    "# fig, axes = plt.subplots(3, 1, figsize=(6,8))\n",
    "# ax1 = axes.flat[0]\n",
    "# ax1.plot(Q1,phi_ocp1,'b')\n",
    "# ax1.plot(Q2,phi_ocp2,'rv-')\n",
    "# ax1.set_title('Negative Electrode Open Circuit Potential [V]')\n",
    "# ax2 = axes.flat[1]\n",
    "# ax2.plot(Q1,phi_int1,'b')\n",
    "# ax2.plot(Q2,phi_int2,'rv-')\n",
    "# ax2.set_title('Negative Electrode Intercalation Overpotential [V]')\n",
    "# ax3 = axes.flat[2]\n",
    "# ax3.plot(Q1,phi_pl1,'b')\n",
    "# ax3.plot(Q2,phi_pl2,'rv-')\n",
    "# ax3.set_title('Plating Overpotential [V]')\n",
    "# # ax5.set_ylim([-0.1,1])\n",
    "# # ax1.legend(['baseline',r'decreasing $\\alpha_{pl}$',r'Increasing $k_{0,pl}$'])\n",
    "# # ax1.legend(['Irreversible ','Reversible','Partially Reversible'])\n",
    "# ax1.legend(['C/5','1.5C','High R'])\n",
    "# # ax1.legend(['SPM','SPMe'])\n",
    "# fig.tight_layout()\n",
    "# # plt.savefig(fig_DIR+'plating_models_parameters'+'.png')\n",
    "# # plt.savefig(fig_DIR+'plating_compare_crate'+'.png')\n",
    "# # plt.savefig(fig_DIR+'plating_compare_spme'+'.png')"
   ]
  },
  {
   "cell_type": "code",
   "execution_count": null,
   "metadata": {},
   "outputs": [],
   "source": [
    "# fig, axes = plt.subplots(1, 2, figsize=(9, 4))\n",
    "# ax1 = axes.flat[0]\n",
    "# ax1.plot(t1,sigma_hs_n1,'b--')\n",
    "# ax1.plot(t2,sigma_hs_n2,'rv-')\n",
    "# ax1.set_title(r'$\\sigma_{h,surf}$ [Pa]')\n",
    "# ax11 = axes.flat[1]\n",
    "# ax11.plot(t1,c_ss_n1-c_save_n1,'b--')\n",
    "# # ax11.plot(t1,c_save_n1,'b--')\n",
    "# ax11.plot(t2,c_ss_n2-c_save_n2,'rv-')\n",
    "# ax11.set_title(r'$c_{ss}^--c_{s,avg}^-$ [mol.$m^{-3}$]')\n",
    "# plt.savefig(fig_DIR+'mech_stress_crate'+'.png')"
   ]
  },
  {
   "cell_type": "code",
   "execution_count": null,
   "metadata": {},
   "outputs": [],
   "source": [
    "parameter_values.search(\"plating\")"
   ]
  },
  {
   "cell_type": "code",
   "execution_count": null,
   "metadata": {},
   "outputs": [],
   "source": [
    "# min(-np.exp(-alpha_pl*F/R/T*phi_pl2))/min(-np.exp(-alpha_pl*F/R/T*phi_pl1))"
   ]
  },
  {
   "cell_type": "code",
   "execution_count": null,
   "metadata": {},
   "outputs": [],
   "source": [
    "(c_ss_n1-c_save_n1)/I1"
   ]
  },
  {
   "cell_type": "code",
   "execution_count": null,
   "metadata": {},
   "outputs": [],
   "source": [
    "csmax_n = 28746\n",
    "F = 96485\n",
    "R = 8.314\n",
    "T = 273.15+25\n",
    "alpha_pl = 0.65\n",
    "fig, ax = plt.subplots(2, 1, figsize=(5, 7))\n",
    "ax1 = ax.flat[0]\n",
    "ax1.plot(t1/t1[-1],(c_ss_n1-c_save_n1),'b--')\n",
    "ax1.plot(t2/t2[-1],(c_ss_n2-c_save_n2),'rv-')\n",
    "ax1.set_title(r'$(c_{ss}^--c_{s,avg}^-)/c_{s,max}^-$ [mol.$m^{-3}$]')\n",
    "ax1.set_xlabel(\"Normalized Time\")\n",
    "ax1.legend(['C/5','1.5C'])\n",
    "ax1 = ax.flat[1]\n",
    "ax1.plot(t1/t1[-1],(c_ss_n1-c_save_n1)/I1,'b--')\n",
    "ax1.plot(t2/t2[-1],(c_ss_n2-c_save_n2)/I2,'rv-')\n",
    "ax1.set_title(r'$\\frac{c_{ss}^--c_{s,avg}^-}{I}$')\n",
    "fig.tight_layout()\n",
    "plt.savefig(fig_DIR+'plating_css_vs_I'+'.png')"
   ]
  },
  {
   "cell_type": "code",
   "execution_count": null,
   "metadata": {},
   "outputs": [],
   "source": [
    "csmax_n = 28746\n",
    "F = 96485\n",
    "R = 8.314\n",
    "T = 273.15+25\n",
    "alpha_pl = 0.65\n",
    "fig, axes = plt.subplots(2, 2, figsize=(7, 5))\n",
    "ax2 = axes.flat[1]\n",
    "ax2.plot(t1/t1[-1],phi_pl1,'b')\n",
    "ax2.plot(t2/t2[-1],phi_pl2,'rv-')\n",
    "ax2.axhline(y = 0.0, color = 'k', linestyle = '--')\n",
    "ax2.set_title(r'$\\eta_{pl}$ [V]')\n",
    "ax4 = axes.flat[3]\n",
    "ax4.plot(t1/t1[-1],-np.exp(-alpha_pl*F/R/T*phi_pl1),'b')\n",
    "ax4.plot(t2/t2[-1],-np.exp(-alpha_pl*F/R/T*phi_pl2),'rv-')\n",
    "ax4.set_title(r'$exp\\left(\\frac{-\\alpha_{c,pl}F}{RT}\\eta_{pl}\\right)$')\n",
    "ax1 = axes.flat[0]\n",
    "# ax1.plot(t1,c_save_n1*csmax_n,'b--')\n",
    "# ax1.plot(t2,c_save_n2*csmax_n,'r--')\n",
    "ax1.plot(t1/t1[-1],c_ss_n1*csmax_n,'b')\n",
    "ax1.plot(t2/t2[-1],c_ss_n2*csmax_n,'rv-')\n",
    "ax1.set_title(r'$c_{ss}^-$ [mol.$m^{-3}$]')\n",
    "ax3 = axes.flat[2]\n",
    "ax3.plot(t1/t1[-1],(c_ss_n1-c_save_n1)*csmax_n,'b--')\n",
    "ax3.plot(t2/t2[-1],(c_ss_n2-c_save_n2)*csmax_n,'rv-')\n",
    "ax3.set_title(r'$c_{ss}^--c_{s,avg}^-$ [mol.$m^{-3}$]')\n",
    "# ax11.plot(t2,c_save_n2,'r--')\n",
    "# ax11.legend(['surf','ave'])\n",
    "ax3.set_xlabel(\"Normalized Time\")\n",
    "ax4.set_xlabel(\"Normalized Time\")\n",
    "# ax4.set_xlabel(\"Time [hr]\")\n",
    "ax2.legend(['C/5','1.5C'])\n",
    "# axis = [ax1,ax2,ax5,ax3,ax9,ax7,ax4,ax8,ax6,ax10,ax11,ax12]\n",
    "# labels = [\"a)\",\"b)\",\"c)\",\"d)\",\"e)\",\"f)\",\"g)\",\"h)\",\"i)\",\"j)\",\"k)\",\"l)\"]\n",
    "# for ax, label in zip(axis,labels):\n",
    "#   ax.text(-0.1,1.1,label,transform=ax.transAxes, fontsize=14)  \n",
    "fig.tight_layout()\n",
    "plt.savefig(fig_DIR+'plating_compare_crate_1'+'.png')"
   ]
  },
  {
   "cell_type": "code",
   "execution_count": null,
   "metadata": {},
   "outputs": [],
   "source": [
    "\n",
    "fig, axes = plt.subplots(2, 1, figsize=(4, 6))\n",
    "ax1=axes.flat[0]\n",
    "ax1.plot(t1,I_Li1,'b')\n",
    "ax1.plot(t2,I_Li2,'rv-')\n",
    "ax1.set_title(r'$j_{pl}$ [A.$m^{-2}$]')\n",
    "ax2 = axes.flat[1]\n",
    "ax2.plot(t1,Q_Li1,'b')\n",
    "ax2.plot(t2,Q_Li2,'rv-')\n",
    "ax2.set_title('Capacity lost due to plating [Ah]')\n",
    "\n",
    "# ax11.set_xlabel(\"Time [hr]\")\n",
    "ax2.set_xlabel(\"Time [hr]\")\n",
    "# ax5.set_ylim([-0.1,1])\n",
    "# ax1.legend(['baseline',r'decreasing $\\alpha_{pl}$',r'Increasing $k_{0,pl}$'])\n",
    "# ax1.legend(['Irreversible ','Reversible','Partially Reversible'])\n",
    "ax1.legend(['C/5','1.5C'])\n",
    "# ax1.legend(['SPM','SPMe'])\n",
    "fig.tight_layout()\n",
    "# plt.savefig(fig_DIR+'plating_models_parameters'+'.png')\n",
    "# plt.savefig(fig_DIR+'plating_compare_models_1p5C'+'.png')\n",
    "plt.savefig(fig_DIR+'plating_compare_crate_2_1'+'.png')"
   ]
  },
  {
   "cell_type": "code",
   "execution_count": null,
   "metadata": {},
   "outputs": [],
   "source": [
    "\n",
    "fig, axes = plt.subplots(6, 2, figsize=(8, 10))\n",
    "ax1 = axes.flat[0]\n",
    "ax1.plot(t1,V1,'b')\n",
    "ax1.plot(t2,V2,'rv-')\n",
    "ax1.set_title('Voltage [V]')\n",
    "ax2 = axes.flat[2]\n",
    "ax2.plot(t1,phi_ocp1,'b')\n",
    "ax2.plot(t2,phi_ocp2,'rv-')\n",
    "ax2.set_title(r'U($c_{ss})$  [V]')\n",
    "ax3 = axes.flat[6]\n",
    "ax3.plot(t1,phi_pl1,'b')\n",
    "ax3.plot(t2,phi_pl2,'rv-')\n",
    "ax3.axhline(y = 0.0, color = 'k', linestyle = '--')\n",
    "ax3.set_title(r'$\\eta_{pl}$ [V]')\n",
    "ax4=axes.flat[3]\n",
    "ax4.plot(t1,i0_int1,'b')\n",
    "ax4.plot(t2,i0_int2,'rv-')\n",
    "ax4.set_title(r'$i_0$  [A.$m^{-2}$]')\n",
    "ax5=axes.flat[4]\n",
    "ax5.plot(t1,phi_int1,'b')\n",
    "ax5.plot(t2,phi_int2,'rv-')\n",
    "ax5.set_title(r'$\\eta_{int}$ [V]')\n",
    "ax6=axes.flat[7]\n",
    "ax6.plot(t1,I_Li1,'b')\n",
    "ax6.plot(t2,I_Li2,'rv-')\n",
    "ax6.set_title(r'$j_{pl}$ [A.$m^{-2}$]')\n",
    "ax7 = axes.flat[1]\n",
    "ax7.plot(t1,I1,'b')\n",
    "ax7.plot(t2,I2,'rv-')\n",
    "ax7.set_title('Current [A]')\n",
    "ax8=axes.flat[5]\n",
    "ax8.plot(t1,I_to1,'b')\n",
    "ax8.plot(t2,I_to2,'rv-')\n",
    "ax8.set_title(r'$j_{int}$  [A.$m^{-2}$]')\n",
    "ax9=axes.flat[8]\n",
    "ax9.plot(t1,phi_e_avg1,'b')\n",
    "ax9.plot(t2,phi_e_avg2,'rv-')\n",
    "ax9.set_title(r'$\\overline{\\Phi}^-_{e}$ [V]')\n",
    "ax10=axes.flat[9]\n",
    "ax10.plot(t1,c_e_avg1,'b')\n",
    "ax10.plot(t2,c_e_avg2,'rv-')\n",
    "ax10.set_title(r'$\\overline{c}^-_{e}$ [mol.$m^{-3}$]')\n",
    "\n",
    "ax11 = axes.flat[10]\n",
    "ax11.plot(t1,c_ss_n1-c_save_n1,'b--')\n",
    "# ax11.plot(t1,c_save_n1,'b--')\n",
    "ax11.plot(t2,c_ss_n2-c_save_n2,'rv-')\n",
    "# ax11.plot(t2,c_save_n2,'r--')\n",
    "# ax11.legend(['surf','ave'])\n",
    "ax11.set_title(r'$c_{ss}^--c_{s,avg}^-$ [mol.$m^{-3}$]')\n",
    "ax12 = axes.flat[11]\n",
    "ax12.plot(t1,Q_Li1,'b')\n",
    "ax12.plot(t2,Q_Li2,'rv-')\n",
    "ax12.set_title('Capacity lost due to plating [Ah]')\n",
    "\n",
    "ax11.set_xlabel(\"Time [hr]\")\n",
    "ax12.set_xlabel(\"Time [hr]\")\n",
    "# ax5.set_ylim([-0.1,1])\n",
    "# ax1.legend(['baseline',r'decreasing $\\alpha_{pl}$',r'Increasing $k_{0,pl}$'])\n",
    "# ax1.legend(['Irreversible ','Reversible','Partially Reversible'])\n",
    "# ax1.legend(['C/5','1.5C'])\n",
    "ax1.legend(['1.5C','2C'])\n",
    "axis = [ax1,ax2,ax5,ax3,ax9,ax7,ax4,ax8,ax6,ax10,ax11,ax12]\n",
    "labels = [\"a)\",\"b)\",\"c)\",\"d)\",\"e)\",\"f)\",\"g)\",\"h)\",\"i)\",\"j)\",\"k)\",\"l)\"]\n",
    "for ax, label in zip(axis,labels):\n",
    "  ax.text(-0.1,1.1,label,transform=ax.transAxes, fontsize=14)  \n",
    "\n",
    "# ax1.legend(['SPM','SPMe'])\n",
    "fig.tight_layout()\n",
    "# plt.savefig(fig_DIR+'plating_models_parameters'+'.png')\n",
    "# plt.savefig(fig_DIR+'plating_compare_models_1p5C'+'.png')\n",
    "plt.savefig(fig_DIR+'plating_compare_crate_new_2'+'.png')"
   ]
  },
  {
   "cell_type": "code",
   "execution_count": null,
   "metadata": {},
   "outputs": [],
   "source": [
    "i_pl_area1 = np.trapz(I_Li1,t1)\n",
    "i_pl_avg1 = i_pl_area1/t1[-1]\n",
    "i_pl_area2 = np.trapz(I_Li2,t2)\n",
    "i_pl_avg2 = i_pl_area2/t2[-1]\n",
    "print(i_pl_avg1)\n",
    "print(i_pl_avg2)\n",
    "print(i_pl_avg2/i_pl_avg1)\n",
    "print(Q_Li2[-1]/Q_Li1[-1])"
   ]
  },
  {
   "cell_type": "code",
   "execution_count": null,
   "metadata": {},
   "outputs": [],
   "source": [
    "fgdfgd"
   ]
  },
  {
   "attachments": {},
   "cell_type": "markdown",
   "metadata": {},
   "source": [
    "# Concentration Evolution"
   ]
  },
  {
   "cell_type": "code",
   "execution_count": null,
   "metadata": {},
   "outputs": [],
   "source": [
    "fig, ax = plt.subplots(1, 1, figsize=(5, 4))\n",
    "ax.plot(t1/t1[-1],c_ss_n1,'b')\n",
    "ax.plot(t1/t1[-1],c_save_n1,'b--')\n",
    "ax.plot(t1/t1[-1],c_s_n1[0,:],'b-.')\n",
    "ax.plot(t2/t2[-1],c_ss_n2,'r')\n",
    "ax.plot(t2/t2[-1],c_save_n2,'r--')\n",
    "ax.plot(t2/t2[-1],c_s_n2[0,:],'r-.')\n",
    "ax.legend([r\"C/5 $c_{ss}$\",r\"C/5 $c_{s,ave}$\",r\"C/5 $c_{s,0}$\",r\"1.5C $c_{ss}$\",r\"1.5C $c_{s,ave}$\",r\"1.5C $c_{s,0}$\"])\n",
    "ax.set_xlabel(\"Normalized Time\")\n",
    "ax.set_ylabel(\"Conc [mol$m^{-3}$]\")\n",
    "ax.set_title(r'Negative Electrode Li Concentration $c_s$')\n",
    "fig.savefig(fig_DIR+\"neg_conc_crate_comp_norm\"+\".png\")"
   ]
  },
  {
   "cell_type": "code",
   "execution_count": null,
   "metadata": {},
   "outputs": [],
   "source": [
    "fig, ax = plt.subplots(1, 1, figsize=(5, 4))\n",
    "ax.plot(t1/t1[-1],c_ss_n1,'b')\n",
    "ax.plot(t1/t1[-1],c_save_n1,'b--')\n",
    "# ax.plot(t1/t1[-1],c_s_n1[0,:],'b-.')\n",
    "ax.plot(t2/t2[-1],c_ss_n2,'r')\n",
    "ax.plot(t2/t2[-1],c_save_n2,'r--')\n",
    "# ax.plot(t2/t2[-1],c_s_n2[0,:],'r-.')\n",
    "ax.legend([r\"C/5 $c_{ss}$\",r\"C/5 $c_{s,ave}$\",r\"1.5C $c_{ss}$\",r\"1.5C $c_{s,ave}$\"])\n",
    "ax.set_xlabel(\"Normalized Time\")\n",
    "ax.set_ylabel(r\"Normalized Concentration [$x=c_{s}/c_{s,max}$]\")\n",
    "ax.set_title(r'Negative Electrode Li Concentration $c_s$')\n",
    "fig.savefig(fig_DIR+\"neg_conc_crate_comp_norm\"+\".png\")"
   ]
  },
  {
   "cell_type": "code",
   "execution_count": null,
   "metadata": {},
   "outputs": [],
   "source": [
    "fig, ax = plt.subplots(1, 1, figsize=(5, 4))\n",
    "ax.plot(t1/t1[-1],c_ss_n1-c_save_n1,'b')\n",
    "# ax.plot(t1/t1[-1],c_s_n1[0,:],'b-.')\n",
    "ax.plot(t2/t2[-1],c_ss_n2-c_save_n2,'r')\n",
    "# ax.plot(t2/t2[-1],c_s_n2[0,:],'r-.')\n",
    "ax.legend([r\"C/5 $c_{ss}-c_{s,ave}$\",r\"1.5C $c_{ss}-c_{s,ave}$\"])\n",
    "ax.set_xlabel(\"Normalized Time\")\n",
    "ax.set_ylabel(r\"Normalized Concentration [$x=c_{s}/c_{s,max}$]\")\n",
    "ax.set_title(r'Negative Electrode Li Concentration $c_s$')\n",
    "fig.savefig(fig_DIR+\"neg_conc_diff_crate_comp_norm\"+\".png\")"
   ]
  },
  {
   "cell_type": "code",
   "execution_count": null,
   "metadata": {},
   "outputs": [],
   "source": [
    "fig, ax = plt.subplots(1, 1, figsize=(5, 4))\n",
    "ax.plot(t1/t1[-1],u_css_n1,'b')\n",
    "ax.plot(t2/t2[-1],u_css_n2,'r')\n",
    "ax.legend([\"C/5\",\"1.5C\"])\n",
    "ax.set_xlabel(\"Normalized Time\")\n",
    "ax.set_ylabel(\"Potential [V]\")\n",
    "ax.set_title(r'$U_n(c_{ss})$')\n",
    "fig.savefig(fig_DIR+\"neg_pot_crate_comp\"+\".png\")"
   ]
  },
  {
   "cell_type": "code",
   "execution_count": null,
   "metadata": {},
   "outputs": [],
   "source": [
    "fig, ax = plt.subplots(1, 1, figsize=(5, 4))\n",
    "ax.plot(t1/t1[-1],c_ss_n1-c_save_n1,'b')\n",
    "# ax.plot(t1/t1[-1],c_save_n1-c_s_n1[0,:],'b--')\n",
    "# ax.plot(t1/t1[-1],c_s_n1[0,:],'b-.')\n",
    "ax.plot(t2/t2[-1],c_ss_n2-c_save_n2,'r')\n",
    "# ax.plot(t2/t2[-1],c_save_n2-c_s_n2[0,:],'r--')\n",
    "# ax.plot(t2/t2[-1],c_s_n2[0,:],'r-.')\n",
    "ax.legend([r\"C/5 $c_{ss}-c_{s,avg}$\",r\"1.5C $c_{ss}-c_{s,avg}$\"])\n",
    "ax.set_xlabel(\"Normalized Time\")\n",
    "ax.set_ylabel(\"Conc [mol$m^{-3}$]\")\n",
    "ax.set_title(r'Negative Electrode Li Concentration Difference $c_s$')"
   ]
  },
  {
   "cell_type": "code",
   "execution_count": null,
   "metadata": {},
   "outputs": [],
   "source": [
    "len(t1)"
   ]
  },
  {
   "cell_type": "code",
   "execution_count": null,
   "metadata": {},
   "outputs": [],
   "source": [
    "fig, ax1 = plt.subplots(1, 1, figsize=(5,3))\n",
    "ax1.plot(t1,I1)\n",
    "n=1\n",
    "ax1.plot(t1[n],I1[n],'rx')\n",
    "n=150\n",
    "ax1.plot(t1[n],I1[n],'rx')\n",
    "n=287\n",
    "ax1.plot(t1[n],I1[n],'rx')\n",
    "n=292\n",
    "ax1.plot(t1[n],I1[n],'rx')\n",
    "n=298\n",
    "ax1.plot(t1[n],I1[n],'rx')"
   ]
  },
  {
   "cell_type": "code",
   "execution_count": null,
   "metadata": {},
   "outputs": [],
   "source": [
    "fig, ax1 = plt.subplots(1, 1, figsize=(5,3))\n",
    "ax1.plot(t2,I2)\n",
    "n=1\n",
    "ax1.plot(t2[n],I2[n],'rx')\n",
    "n=18\n",
    "ax1.plot(t2[n],I2[n],'rx')\n",
    "n=36\n",
    "ax1.plot(t2[n],I2[n],'rx')\n",
    "n=46\n",
    "ax1.plot(t2[n],I2[n],'rx')\n",
    "n=56\n",
    "ax1.plot(t2[n],I2[n],'rx')"
   ]
  },
  {
   "cell_type": "code",
   "execution_count": null,
   "metadata": {},
   "outputs": [],
   "source": [
    "ln = np.linspace(0,1,20)\n",
    "n = 1\n",
    "print(t1[n]/60)\n",
    "y1 = c_s_n1[:,n]\n",
    "n = 10\n",
    "y2 = c_s_n1[:,n]\n",
    "n = 20\n",
    "y3 = c_s_n1[:,n]\n",
    "n = 30\n",
    "y4 = c_s_n1[:,n]\n",
    "n = 40\n",
    "y5 = c_s_n1[:,n]\n",
    "n = 50\n",
    "y6 = c_s_n1[:,n]\n",
    "fig, ax1 = plt.subplots(1, 1, figsize=(5,3))\n",
    "ax1.plot(ln,y1)\n",
    "ax1.plot(ln,y2,'--')\n",
    "ax1.plot(ln,y3,'--')\n",
    "ax1.plot(ln,y4,'--')\n",
    "ax1.plot(ln,y5,'--')\n",
    "ax1.plot(ln,y6,'--')\n",
    "ax1.set_title(r'Negative Electrode $c_e-c_{e,ref}$ [mol.$m^{-3}$]')\n",
    "ax1.set_xlabel(\"Negative electrode normalized length\")\n",
    "ax1.legend([\"1 min\",\"10 min\",\"20 min\",\"30 min\",\"40 min\",\"50 min\"])\n",
    "# ax1.legend(['C/5','1.5 C'])\n",
    "fig.tight_layout()\n",
    "# plt.savefig(fig_DIR+'dfn_c_e_5'+'.png')"
   ]
  },
  {
   "cell_type": "code",
   "execution_count": null,
   "metadata": {},
   "outputs": [],
   "source": [
    "i_pl_area1 = np.trapz(I_Li1,t1)\n",
    "i_pl_avg1 = i_pl_area1/t1[-1]\n",
    "i_pl_area2 = np.trapz(I_Li2,t2)\n",
    "i_pl_avg2 = i_pl_area2/t2[-1]\n",
    "print(i_pl_avg1)\n",
    "print(i_pl_avg2)\n",
    "print(i_pl_avg2/i_pl_avg1)\n",
    "print(Q_Li2[-1]/Q_Li1[-1])"
   ]
  },
  {
   "cell_type": "code",
   "execution_count": null,
   "metadata": {},
   "outputs": [],
   "source": [
    "sadas"
   ]
  },
  {
   "cell_type": "code",
   "execution_count": null,
   "metadata": {},
   "outputs": [],
   "source": [
    "out = parameter_values.evaluate(0.75*param.F/param.R/298.15)\n",
    "print(out)"
   ]
  },
  {
   "attachments": {},
   "cell_type": "markdown",
   "metadata": {},
   "source": [
    "# Compare Lithium Plating average vs seperator overpotential"
   ]
  },
  {
   "cell_type": "code",
   "execution_count": null,
   "metadata": {},
   "outputs": [],
   "source": [
    "t1_e,V1_e,I1_e,Q1_e,Q_Li1_e,I_Li1_e,I_de1_e,I_st1_e,I_to1_e,phi_seif1_e,phi_sei1_e,phi_pl1_e,phi_del1_e,phi_ocp1_e,phi_int1_e,i0_int1_e,phi_e_avg1_e,c_e_avg1_e,c_ss_n1_e,c_save_n1_e,c_s_n1_e,u_css_n1_e,j_pl1_e,eta_pl1_e = plot_vars(solution1_e)\n",
    "t2_e,V2_e,I2_e,Q2_e,Q_Li2_e,I_Li2_e,I_de2_e,I_st2_e,I_to2_e,phi_seif2_e,phi_sei2_e,phi_pl2_e,phi_del2_e,phi_ocp2_e,phi_int2_e,i0_int2_e,phi_e_avg2_e,c_e_avg2_e,c_ss_n2_e,c_save_n2_e,c_s_n2_e,u_css_n2_e,j_pl2_e,eta_pl2_e = plot_vars(solution2_e)"
   ]
  },
  {
   "cell_type": "code",
   "execution_count": null,
   "metadata": {},
   "outputs": [],
   "source": [
    "# ln = np.linspace(0,1,20)\n",
    "# fig, ax1 = plt.subplots(1, 1, figsize=(5,3))\n",
    "# # ax1.plot(t2_e,j_pl2_e[10,:])\n",
    "# ax1.plot(ln,j_pl2_e[:,10])"
   ]
  },
  {
   "cell_type": "code",
   "execution_count": null,
   "metadata": {},
   "outputs": [],
   "source": [
    "es_2 = solution2_e[\"X-averaged positive electrode active material volume fraction\"].entries\n",
    "R_n = parameter_values.evaluate(param.n.prim.R_typ)\n",
    "F = parameter_values.evaluate(param.F)\n",
    "j_pl2_max_e = j_pl2_e[-1,:]\n",
    "nn = len(j_pl2_e)\n",
    "j_pl2_a=0\n",
    "eta_pl2_a=0\n",
    "for i in range(nn):\n",
    "    j_pl2_a+=j_pl2_e[i,:]\n",
    "    eta_pl2_a+=eta_pl2_e[i,:]\n",
    "j_pl2_av = j_pl2_a/nn\n",
    "eta_pl2_av = eta_pl2_a/nn\n",
    "d_c_lip_max = j_pl2_max_e\n",
    "d_c_lip_av = j_pl2_av\n",
    "\n",
    "eta_pl2_max_e = eta_pl2_e[-1,:]\n",
    "\n",
    "as_2 = 3*es_2/R_n\n",
    "\n",
    "mul =  parameter_values.evaluate(param.n.L*param.A_cc)\n",
    "# mul =  parameter_values.evaluate(param.n.L)\n",
    "mul2 = parameter_values.evaluate(param.n.L*param.L_y*param.L_z)\n",
    "# mul2 = parameter_values.evaluate(param.L_z)"
   ]
  },
  {
   "cell_type": "code",
   "execution_count": null,
   "metadata": {},
   "outputs": [],
   "source": [
    "Q_Li2_e_calc = -scipy.integrate.cumtrapz(d_c_lip_av*mul2*F,t2_e)\n",
    "Q_Li2_e_calc = np.append(Q_Li2_e_calc,Q_Li2_e_calc[-1])"
   ]
  },
  {
   "cell_type": "code",
   "execution_count": null,
   "metadata": {},
   "outputs": [],
   "source": [
    "Q_Li2_e_calc[-1] "
   ]
  },
  {
   "cell_type": "code",
   "execution_count": null,
   "metadata": {},
   "outputs": [],
   "source": [
    "Q_Li2_e[-1]"
   ]
  },
  {
   "cell_type": "code",
   "execution_count": null,
   "metadata": {},
   "outputs": [],
   "source": [
    "fig, ax1= plt.subplots(1, 1, figsize=(5, 4))\n",
    "ax1.plot(t2_e,Q_Li2_e)\n",
    "ax1.plot(t2_e,Q_Li2_e_calc)"
   ]
  },
  {
   "cell_type": "code",
   "execution_count": null,
   "metadata": {},
   "outputs": [],
   "source": [
    "c_lip_max = scipy.integrate.cumtrapz(d_c_lip_max,t2_e)\n",
    "c_lip_max = np.append(c_lip_max,c_lip_max[-1])\n",
    "c_lip_av = scipy.integrate.cumtrapz(d_c_lip_av,t2_e)\n",
    "c_lip_av = np.append(c_lip_av,c_lip_av[-1])"
   ]
  },
  {
   "cell_type": "code",
   "execution_count": null,
   "metadata": {},
   "outputs": [],
   "source": [
    "Q_Li2_e_max =c_lip_max/c_lip_av*Q_Li2_e"
   ]
  },
  {
   "cell_type": "code",
   "execution_count": null,
   "metadata": {},
   "outputs": [],
   "source": [
    "fig, axes = plt.subplots(1, 3, figsize=(10, 4))\n",
    "ax1 = axes.flat[0]\n",
    "ax1.plot(t2_e,j_pl2_av)\n",
    "ax1.plot(t2_e,j_pl2_max_e,'--')\n",
    "ax1.set_title(\"Plating Current\")\n",
    "ax1.set_ylabel(r\"Current [A$m^{-2}$]\")\n",
    "ax1.set_xlabel(\"Time [hr]\")\n",
    "ax1.legend([\"Average\",\"Maximum\"])\n",
    "ax2 = axes.flat[1]\n",
    "ax2.plot(t2_e,Q_Li2_e)\n",
    "ax2.plot(t2_e,Q_Li2_e_max,'--')\n",
    "ax2.set_title(R\"$Q_{loss,pl}$\")\n",
    "ax2.set_ylabel(r\"Capacity Loss [Ah]\")\n",
    "ax2.set_xlabel(\"Time [hr]\")\n",
    "ax3 = axes.flat[2]\n",
    "ax3.plot(t2_e,eta_pl2_av)\n",
    "ax3.plot(t2_e,eta_pl2_max_e,'--')\n",
    "ax3.set_title(R\"$\\eta_{pl}$\")\n",
    "ax3.set_ylabel(r\"Overpotential [V]\")\n",
    "ax3.set_xlabel(\"Time [hr]\")\n",
    "fig.tight_layout()\n",
    "plt.savefig(fig_DIR+'impact_eta_plmax'+'.png')"
   ]
  },
  {
   "cell_type": "code",
   "execution_count": null,
   "metadata": {},
   "outputs": [],
   "source": [
    "t1,V1,I1,Q1,Q_Li1,I_Li1,I_de1,I_st1,I_to1,phi_seif1,phi_sei1,phi_pl1,phi_del1,phi_ocp1,phi_int1,i0_int1,phi_e_avg1,c_e_avg1,c_ss_n1,c_save_n1,c_s_n1 = plot_vars(solution1)\n",
    "t2,V2,I2,Q2,Q_Li2,I_Li2,I_de2,I_st2,I_to2,phi_seif2,phi_sei2,phi_pl2,phi_del2,phi_ocp2,phi_int2,i0_int2,phi_e_avg2,c_e_avg2,c_ss_n2,c_save_n2,c_s_n2 = plot_vars(solution2)\n",
    "fig, axes = plt.subplots(6, 2, figsize=(8, 10))\n",
    "ax1 = axes.flat[0]\n",
    "ax1.plot(t1,V1,'b')\n",
    "ax1.plot(t2,V2,'rv-')\n",
    "ax1.set_title('Voltage [V]')\n",
    "ax2 = axes.flat[2]\n",
    "ax2.plot(t1,phi_ocp1,'b')\n",
    "ax2.plot(t2,phi_ocp2,'rv-')\n",
    "ax2.set_title(r'U($c_{ss})$  [V]')\n",
    "ax3 = axes.flat[6]\n",
    "ax3.plot(t1,phi_pl1,'b')\n",
    "ax3.plot(t2,phi_pl2,'rv-')\n",
    "ax3.set_title(r'$\\eta_{pl}$ [V]')\n",
    "ax4=axes.flat[3]\n",
    "ax4.plot(t1,i0_int1,'b')\n",
    "ax4.plot(t2,i0_int2,'rv-')\n",
    "ax4.set_title(r'$i_0$  [A.$m^{-2}$]')\n",
    "ax5=axes.flat[4]\n",
    "ax5.plot(t1,phi_int1,'b')\n",
    "ax5.plot(t2,phi_int2,'rv-')\n",
    "ax5.set_title(r'$\\eta_{int}$ [V]')\n",
    "ax6=axes.flat[7]\n",
    "ax6.plot(t1,I_Li1,'b')\n",
    "ax6.plot(t2,I_Li2,'rv-')\n",
    "ax6.set_title(r'$j_{pl}$ [A.$m^{-2}$]')\n",
    "ax7 = axes.flat[1]\n",
    "ax7.plot(t1,I1,'b')\n",
    "ax7.plot(t2,I2,'rv-')\n",
    "ax7.set_title('Current [A]')\n",
    "ax8=axes.flat[5]\n",
    "ax8.plot(t1,I_to1,'b')\n",
    "ax8.plot(t2,I_to2,'rv-')\n",
    "ax8.set_title(r'$j_{int}$  [A.$m^{-2}$]')\n",
    "ax9=axes.flat[8]\n",
    "ax9.plot(t1,phi_e_avg1,'b')\n",
    "ax9.plot(t2,phi_e_avg2,'rv-')\n",
    "ax9.set_title(r'$\\overline{\\Phi}^-_{e}$ [V]')\n",
    "ax10=axes.flat[9]\n",
    "ax10.plot(t1,c_e_avg1,'b')\n",
    "ax10.plot(t2,c_e_avg2,'rv-')\n",
    "ax10.set_title(r'$\\overline{c}^-_{e}$ [mol.$m^{-3}$]')\n",
    "\n",
    "ax11 = axes.flat[10]\n",
    "ax11.plot(t1,c_ss_n1-c_save_n1,'b--')\n",
    "# ax11.plot(t1,c_save_n1,'b--')\n",
    "ax11.plot(t2,c_ss_n2-c_save_n2,'r')\n",
    "# ax11.plot(t2,c_save_n2,'r--')\n",
    "ax11.legend(['surf','ave'])\n",
    "ax11.set_title(r'$c_s^-$ [mol.$m^{-3}$]')\n",
    "ax12 = axes.flat[11]\n",
    "ax12.plot(t1,Q_Li1,'b')\n",
    "ax12.plot(t2,Q_Li2,'rv-')\n",
    "ax12.set_title('Capacity lost due to plating [Ah]')\n",
    "\n",
    "ax11.set_xlabel(\"Time [hr]\")\n",
    "ax12.set_xlabel(\"Time [hr]\")\n",
    "# ax5.set_ylim([-0.1,1])\n",
    "# ax1.legend(['baseline',r'decreasing $\\alpha_{pl}$',r'Increasing $k_{0,pl}$'])\n",
    "# ax1.legend(['Irreversible ','Reversible','Partially Reversible'])\n",
    "ax1.legend(['1.5C','2C'])\n",
    "axis = [ax1,ax2,ax5,ax3,ax9,ax7,ax4,ax8,ax6,ax10,ax11,ax12]\n",
    "labels = [\"a)\",\"b)\",\"c)\",\"d)\",\"e)\",\"f)\",\"g)\",\"h)\",\"i)\",\"j)\",\"k)\",\"l)\"]\n",
    "for ax, label in zip(axis,labels):\n",
    "  ax.text(-0.1,1.1,label,transform=ax.transAxes, fontsize=14)  \n",
    "\n",
    "# ax1.legend(['SPM','SPMe'])\n",
    "fig.tight_layout()\n",
    "# plt.savefig(fig_DIR+'plating_models_parameters'+'.png')\n",
    "# plt.savefig(fig_DIR+'plating_compare_models_1p5C'+'.png')\n",
    "plt.savefig(fig_DIR+'plating_compare_crate_high_irrev'+'.png')"
   ]
  },
  {
   "cell_type": "code",
   "execution_count": null,
   "metadata": {},
   "outputs": [],
   "source": [
    "asdasd"
   ]
  },
  {
   "cell_type": "code",
   "execution_count": null,
   "metadata": {},
   "outputs": [],
   "source": [
    "c_ss_n1"
   ]
  },
  {
   "cell_type": "code",
   "execution_count": null,
   "metadata": {},
   "outputs": [],
   "source": [
    "c_smax_n = 28746\n",
    "f1 = (c_ss_p1**0.5)*((c_smax_n-c_ss_p1)**0.5)\n",
    "\n",
    "fig, ax1 = plt.subplots(1, 1, figsize=(5, 4))\n",
    "ax1.plot(t1,f1,'b')\n",
    "# ax1.plot(t2,V2,'rv-')\n",
    "ax1.set_title(r'$(c_{s,max}-c_{ss})^{1-\\alpha}\\times(c_{ss})^{\\alpha}$')\n",
    "ax1.set_xlabel(\"Time [hr]\")\n",
    "plt.savefig(fig_DIR+'exch_current_nonlinearity'+'.png')"
   ]
  },
  {
   "cell_type": "code",
   "execution_count": null,
   "metadata": {},
   "outputs": [],
   "source": [
    "c_ss_p1 = np.linspace(1,0,51)"
   ]
  },
  {
   "cell_type": "code",
   "execution_count": null,
   "metadata": {},
   "outputs": [],
   "source": [
    "c_smax_p =1\n",
    "f1 = (c_ss_p1**0.05)*((c_smax_p-c_ss_p1)**0.05)\n",
    "\n",
    "fig, ax1 = plt.subplots(1, 1, figsize=(5, 4))\n",
    "ax1.plot(c_ss_p1,f1,'b')\n",
    "# ax1.plot(t2,V2,'rv-')\n",
    "ax1.set_title(r'$(c_{s,max}-c_{ss})^{1-\\alpha}\\times(c_{ss})^{\\alpha}$')\n",
    "# plt.savefig(fig_DIR+'exch_current_nonlinearity'+'.png')"
   ]
  }
 ],
 "metadata": {
  "kernelspec": {
   "display_name": "Python 3",
   "language": "python",
   "name": "python3"
  },
  "language_info": {
   "codemirror_mode": {
    "name": "ipython",
    "version": 3
   },
   "file_extension": ".py",
   "mimetype": "text/x-python",
   "name": "python",
   "nbconvert_exporter": "python",
   "pygments_lexer": "ipython3",
   "version": "3.9.7"
  },
  "orig_nbformat": 4,
  "vscode": {
   "interpreter": {
    "hash": "fe6e1a396f7757d05554318f98bb2d7e7d3785df9fdbcce0707f057fad4349a9"
   }
  }
 },
 "nbformat": 4,
 "nbformat_minor": 2
}
